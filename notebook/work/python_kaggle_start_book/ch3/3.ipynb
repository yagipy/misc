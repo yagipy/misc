{
 "cells": [
  {
   "cell_type": "markdown",
   "id": "ccf2f2e7",
   "metadata": {
    "papermill": {
     "duration": 0.004841,
     "end_time": "2023-05-13T12:09:11.714836",
     "exception": false,
     "start_time": "2023-05-13T12:09:11.709995",
     "status": "completed"
    },
    "tags": []
   },
   "source": [
    "This notebook is a sample code with Japanese comments.\n",
    "\n",
    "# 3.3 Titanicの先へ行く③！　テキストデータに触れてみよう"
   ]
  },
  {
   "cell_type": "code",
   "execution_count": 1,
   "id": "b38f4105",
   "metadata": {
    "_cell_guid": "79c7e3d0-c299-4dcb-8224-4455121ee9b0",
    "_uuid": "d629ff2d2480ee46fbb7e2d37f6b5fab8052498a",
    "papermill": {
     "duration": 0.016596,
     "end_time": "2023-05-13T12:09:11.735522",
     "exception": false,
     "start_time": "2023-05-13T12:09:11.718926",
     "status": "completed"
    },
    "tags": []
   },
   "outputs": [],
   "source": [
    "import pandas as pd"
   ]
  },
  {
   "cell_type": "code",
   "execution_count": 2,
   "id": "f3a0dc8e",
   "metadata": {
    "execution": {
     "iopub.execute_input": "2023-05-13T12:09:11.745186Z",
     "iopub.status.busy": "2023-05-13T12:09:11.744616Z",
     "iopub.status.idle": "2023-05-13T12:09:11.776196Z",
     "shell.execute_reply": "2023-05-13T12:09:11.775303Z"
    },
    "papermill": {
     "duration": 0.038676,
     "end_time": "2023-05-13T12:09:11.778246",
     "exception": false,
     "start_time": "2023-05-13T12:09:11.739570",
     "status": "completed"
    },
    "tags": []
   },
   "outputs": [
    {
     "data": {
      "text/html": [
       "<div>\n",
       "<style scoped>\n",
       "    .dataframe tbody tr th:only-of-type {\n",
       "        vertical-align: middle;\n",
       "    }\n",
       "\n",
       "    .dataframe tbody tr th {\n",
       "        vertical-align: top;\n",
       "    }\n",
       "\n",
       "    .dataframe thead th {\n",
       "        text-align: right;\n",
       "    }\n",
       "</style>\n",
       "<table border=\"1\" class=\"dataframe\">\n",
       "  <thead>\n",
       "    <tr style=\"text-align: right;\">\n",
       "      <th></th>\n",
       "      <th>text</th>\n",
       "    </tr>\n",
       "  </thead>\n",
       "  <tbody>\n",
       "    <tr>\n",
       "      <th>0</th>\n",
       "      <td>I like kaggle very much</td>\n",
       "    </tr>\n",
       "    <tr>\n",
       "      <th>1</th>\n",
       "      <td>I do not like kaggle</td>\n",
       "    </tr>\n",
       "    <tr>\n",
       "      <th>2</th>\n",
       "      <td>I do really love machine learning</td>\n",
       "    </tr>\n",
       "  </tbody>\n",
       "</table>\n",
       "</div>"
      ],
      "text/plain": [
       "                                text\n",
       "0            I like kaggle very much\n",
       "1               I do not like kaggle\n",
       "2  I do really love machine learning"
      ]
     },
     "execution_count": 2,
     "metadata": {},
     "output_type": "execute_result"
    }
   ],
   "source": [
    "df = pd.DataFrame({'text': ['I like kaggle very much',\n",
    "                            'I do not like kaggle',\n",
    "                            'I do really love machine learning']})\n",
    "df"
   ]
  },
  {
   "cell_type": "markdown",
   "id": "f17254ba",
   "metadata": {
    "papermill": {
     "duration": 0.003895,
     "end_time": "2023-05-13T12:09:11.786408",
     "exception": false,
     "start_time": "2023-05-13T12:09:11.782513",
     "status": "completed"
    },
    "tags": []
   },
   "source": [
    "# Bag of Words"
   ]
  },
  {
   "cell_type": "code",
   "execution_count": 3,
   "id": "5a620ab1",
   "metadata": {
    "execution": {
     "iopub.execute_input": "2023-05-13T12:09:11.796249Z",
     "iopub.status.busy": "2023-05-13T12:09:11.795723Z",
     "iopub.status.idle": "2023-05-13T12:09:12.805135Z",
     "shell.execute_reply": "2023-05-13T12:09:12.803969Z"
    },
    "papermill": {
     "duration": 1.017868,
     "end_time": "2023-05-13T12:09:12.808265",
     "exception": false,
     "start_time": "2023-05-13T12:09:11.790397",
     "status": "completed"
    },
    "tags": []
   },
   "outputs": [
    {
     "name": "stderr",
     "output_type": "stream",
     "text": [
      "/opt/conda/lib/python3.10/site-packages/scipy/__init__.py:146: UserWarning: A NumPy version >=1.16.5 and <1.23.0 is required for this version of SciPy (detected version 1.23.5\n",
      "  warnings.warn(f\"A NumPy version >={np_minversion} and <{np_maxversion}\"\n"
     ]
    },
    {
     "data": {
      "text/plain": [
       "array([[0, 1, 1, 0, 1, 0, 0, 1, 0, 0, 1],\n",
       "       [1, 1, 1, 0, 1, 0, 0, 0, 1, 0, 0],\n",
       "       [1, 1, 0, 1, 0, 1, 1, 0, 0, 1, 0]])"
      ]
     },
     "execution_count": 3,
     "metadata": {},
     "output_type": "execute_result"
    }
   ],
   "source": [
    "from sklearn.feature_extraction.text import CountVectorizer\n",
    "\n",
    "\n",
    "vectorizer = CountVectorizer(token_pattern=u'(?u)\\\\b\\\\w+\\\\b')\n",
    "bag = vectorizer.fit_transform(df['text'])\n",
    "bag.toarray()"
   ]
  },
  {
   "cell_type": "code",
   "execution_count": 4,
   "id": "91c88c2a",
   "metadata": {
    "execution": {
     "iopub.execute_input": "2023-05-13T12:09:12.818946Z",
     "iopub.status.busy": "2023-05-13T12:09:12.818058Z",
     "iopub.status.idle": "2023-05-13T12:09:12.822653Z",
     "shell.execute_reply": "2023-05-13T12:09:12.821704Z"
    },
    "papermill": {
     "duration": 0.011709,
     "end_time": "2023-05-13T12:09:12.824435",
     "exception": false,
     "start_time": "2023-05-13T12:09:12.812726",
     "status": "completed"
    },
    "tags": []
   },
   "outputs": [
    {
     "name": "stdout",
     "output_type": "stream",
     "text": [
      "{'i': 1, 'like': 4, 'kaggle': 2, 'very': 10, 'much': 7, 'do': 0, 'not': 8, 'really': 9, 'love': 5, 'machine': 6, 'learning': 3}\n"
     ]
    }
   ],
   "source": [
    "print(vectorizer.vocabulary_)"
   ]
  },
  {
   "cell_type": "markdown",
   "id": "0a980841",
   "metadata": {
    "papermill": {
     "duration": 0.003907,
     "end_time": "2023-05-13T12:09:12.832841",
     "exception": false,
     "start_time": "2023-05-13T12:09:12.828934",
     "status": "completed"
    },
    "tags": []
   },
   "source": [
    "# TF-IDF"
   ]
  },
  {
   "cell_type": "code",
   "execution_count": 5,
   "id": "b0966b0d",
   "metadata": {
    "execution": {
     "iopub.execute_input": "2023-05-13T12:09:12.842664Z",
     "iopub.status.busy": "2023-05-13T12:09:12.842325Z",
     "iopub.status.idle": "2023-05-13T12:09:12.859432Z",
     "shell.execute_reply": "2023-05-13T12:09:12.857938Z"
    },
    "papermill": {
     "duration": 0.024308,
     "end_time": "2023-05-13T12:09:12.861350",
     "exception": false,
     "start_time": "2023-05-13T12:09:12.837042",
     "status": "completed"
    },
    "tags": []
   },
   "outputs": [
    {
     "name": "stdout",
     "output_type": "stream",
     "text": [
      "[[0.         0.31544415 0.40619178 0.         0.40619178 0.\n",
      "  0.         0.53409337 0.         0.         0.53409337]\n",
      " [0.43306685 0.33631504 0.43306685 0.         0.43306685 0.\n",
      "  0.         0.         0.56943086 0.         0.        ]\n",
      " [0.34261996 0.26607496 0.         0.45050407 0.         0.45050407\n",
      "  0.45050407 0.         0.         0.45050407 0.        ]]\n"
     ]
    }
   ],
   "source": [
    "from sklearn.feature_extraction.text import CountVectorizer\n",
    "from sklearn.feature_extraction.text import TfidfTransformer\n",
    "\n",
    "\n",
    "vectorizer = CountVectorizer(token_pattern=u'(?u)\\\\b\\\\w+\\\\b')\n",
    "transformer = TfidfTransformer()\n",
    "\n",
    "tf = vectorizer.fit_transform(df['text'])\n",
    "tfidf = transformer.fit_transform(tf)\n",
    "print(tfidf.toarray())"
   ]
  },
  {
   "cell_type": "code",
   "execution_count": 6,
   "id": "644ba002",
   "metadata": {
    "execution": {
     "iopub.execute_input": "2023-05-13T12:09:12.871709Z",
     "iopub.status.busy": "2023-05-13T12:09:12.871387Z",
     "iopub.status.idle": "2023-05-13T12:09:12.876668Z",
     "shell.execute_reply": "2023-05-13T12:09:12.875473Z"
    },
    "papermill": {
     "duration": 0.012722,
     "end_time": "2023-05-13T12:09:12.878348",
     "exception": false,
     "start_time": "2023-05-13T12:09:12.865626",
     "status": "completed"
    },
    "tags": []
   },
   "outputs": [
    {
     "name": "stdout",
     "output_type": "stream",
     "text": [
      "{'i': 1, 'like': 4, 'kaggle': 2, 'very': 10, 'much': 7, 'do': 0, 'not': 8, 'really': 9, 'love': 5, 'machine': 6, 'learning': 3}\n"
     ]
    }
   ],
   "source": [
    "print(vectorizer.vocabulary_)"
   ]
  },
  {
   "cell_type": "markdown",
   "id": "60c5b6b3",
   "metadata": {
    "papermill": {
     "duration": 0.004035,
     "end_time": "2023-05-13T12:09:12.886883",
     "exception": false,
     "start_time": "2023-05-13T12:09:12.882848",
     "status": "completed"
    },
    "tags": []
   },
   "source": [
    "# Word2vec"
   ]
  },
  {
   "cell_type": "code",
   "execution_count": 7,
   "id": "288bc8a9",
   "metadata": {
    "execution": {
     "iopub.execute_input": "2023-05-13T12:09:12.897387Z",
     "iopub.status.busy": "2023-05-13T12:09:12.896997Z",
     "iopub.status.idle": "2023-05-13T12:09:13.104189Z",
     "shell.execute_reply": "2023-05-13T12:09:13.103526Z"
    },
    "papermill": {
     "duration": 0.215184,
     "end_time": "2023-05-13T12:09:13.106398",
     "exception": false,
     "start_time": "2023-05-13T12:09:12.891214",
     "status": "completed"
    },
    "tags": []
   },
   "outputs": [],
   "source": [
    "from gensim.models import word2vec\n",
    "\n",
    "\n",
    "sentences = [d.split() for d in df['text']]\n",
    "model = word2vec.Word2Vec(sentences, vector_size=10, min_count=1, window=2, seed=7)"
   ]
  },
  {
   "cell_type": "code",
   "execution_count": 8,
   "id": "4f34bd29",
   "metadata": {
    "execution": {
     "iopub.execute_input": "2023-05-13T12:09:13.117884Z",
     "iopub.status.busy": "2023-05-13T12:09:13.117258Z",
     "iopub.status.idle": "2023-05-13T12:09:13.123321Z",
     "shell.execute_reply": "2023-05-13T12:09:13.122119Z"
    },
    "papermill": {
     "duration": 0.014307,
     "end_time": "2023-05-13T12:09:13.125557",
     "exception": false,
     "start_time": "2023-05-13T12:09:13.111250",
     "status": "completed"
    },
    "tags": []
   },
   "outputs": [
    {
     "data": {
      "text/plain": [
       "array([ 0.01650858,  0.01069946,  0.00188946,  0.09910005,  0.06153275,\n",
       "        0.05853238,  0.04005488,  0.02443584, -0.03179482,  0.09779203],\n",
       "      dtype=float32)"
      ]
     },
     "execution_count": 8,
     "metadata": {},
     "output_type": "execute_result"
    }
   ],
   "source": [
    "model.wv['like']"
   ]
  },
  {
   "cell_type": "code",
   "execution_count": 9,
   "id": "fa686344",
   "metadata": {
    "execution": {
     "iopub.execute_input": "2023-05-13T12:09:13.136838Z",
     "iopub.status.busy": "2023-05-13T12:09:13.136489Z",
     "iopub.status.idle": "2023-05-13T12:09:13.144763Z",
     "shell.execute_reply": "2023-05-13T12:09:13.143649Z"
    },
    "papermill": {
     "duration": 0.016794,
     "end_time": "2023-05-13T12:09:13.147293",
     "exception": false,
     "start_time": "2023-05-13T12:09:13.130499",
     "status": "completed"
    },
    "tags": []
   },
   "outputs": [
    {
     "data": {
      "text/plain": [
       "[('I', 0.42540043592453003),\n",
       " ('machine', 0.36355969309806824),\n",
       " ('not', 0.311229407787323),\n",
       " ('kaggle', -0.004140517208725214),\n",
       " ('much', -0.11530755460262299),\n",
       " ('do', -0.1529018133878708),\n",
       " ('love', -0.25542783737182617),\n",
       " ('really', -0.4161785840988159),\n",
       " ('learning', -0.44330504536628723),\n",
       " ('very', -0.44338396191596985)]"
      ]
     },
     "execution_count": 9,
     "metadata": {},
     "output_type": "execute_result"
    }
   ],
   "source": [
    "model.wv.most_similar('like')"
   ]
  },
  {
   "cell_type": "code",
   "execution_count": 10,
   "id": "2b352210",
   "metadata": {
    "execution": {
     "iopub.execute_input": "2023-05-13T12:09:13.158313Z",
     "iopub.status.busy": "2023-05-13T12:09:13.157960Z",
     "iopub.status.idle": "2023-05-13T12:09:13.164481Z",
     "shell.execute_reply": "2023-05-13T12:09:13.163568Z"
    },
    "papermill": {
     "duration": 0.014548,
     "end_time": "2023-05-13T12:09:13.166721",
     "exception": false,
     "start_time": "2023-05-13T12:09:13.152173",
     "status": "completed"
    },
    "tags": []
   },
   "outputs": [
    {
     "data": {
      "text/plain": [
       "['I', 'like', 'kaggle', 'very', 'much']"
      ]
     },
     "execution_count": 10,
     "metadata": {},
     "output_type": "execute_result"
    }
   ],
   "source": [
    "df['text'][0].split()"
   ]
  },
  {
   "cell_type": "code",
   "execution_count": 11,
   "id": "fdf774c3",
   "metadata": {
    "execution": {
     "iopub.execute_input": "2023-05-13T12:09:13.177605Z",
     "iopub.status.busy": "2023-05-13T12:09:13.177245Z",
     "iopub.status.idle": "2023-05-13T12:09:13.185196Z",
     "shell.execute_reply": "2023-05-13T12:09:13.184154Z"
    },
    "papermill": {
     "duration": 0.015342,
     "end_time": "2023-05-13T12:09:13.186901",
     "exception": false,
     "start_time": "2023-05-13T12:09:13.171559",
     "status": "completed"
    },
    "tags": []
   },
   "outputs": [
    {
     "data": {
      "text/plain": [
       "array([[ 0.08898099,  0.02501909,  0.03683598,  0.07944275,  0.01565849,\n",
       "         0.05513714,  0.0667302 , -0.05495857, -0.08889369, -0.03996675],\n",
       "       [ 0.01650858,  0.01069946,  0.00188946,  0.09910005,  0.06153275,\n",
       "         0.05853238,  0.04005488,  0.02443584, -0.03179482,  0.09779203],\n",
       "       [ 0.06329302, -0.03939352, -0.03167932, -0.04431488,  0.04389417,\n",
       "        -0.04902608,  0.09809195, -0.01098474, -0.00437022,  0.00090965],\n",
       "       [ 0.03720424, -0.02774719,  0.02864924,  0.01963681, -0.07835456,\n",
       "        -0.08814968,  0.03203132, -0.02247364,  0.01966591, -0.03539274],\n",
       "       [-0.09157717,  0.04835419, -0.00529734, -0.08170088, -0.05110302,\n",
       "         0.00822875,  0.04535742,  0.00155444,  0.02258943,  0.07426786]],\n",
       "      dtype=float32)"
      ]
     },
     "execution_count": 11,
     "metadata": {},
     "output_type": "execute_result"
    }
   ],
   "source": [
    "import numpy as np\n",
    "\n",
    "\n",
    "wordvec = np.array([model.wv[word] for word in df['text'][0].split()])\n",
    "wordvec"
   ]
  },
  {
   "cell_type": "code",
   "execution_count": 12,
   "id": "14f6f82e",
   "metadata": {
    "execution": {
     "iopub.execute_input": "2023-05-13T12:09:13.198691Z",
     "iopub.status.busy": "2023-05-13T12:09:13.197690Z",
     "iopub.status.idle": "2023-05-13T12:09:13.204471Z",
     "shell.execute_reply": "2023-05-13T12:09:13.203653Z"
    },
    "papermill": {
     "duration": 0.014227,
     "end_time": "2023-05-13T12:09:13.206068",
     "exception": false,
     "start_time": "2023-05-13T12:09:13.191841",
     "status": "completed"
    },
    "tags": []
   },
   "outputs": [
    {
     "data": {
      "text/plain": [
       "array([ 0.02288193,  0.00338641,  0.0060796 ,  0.01443277, -0.00167443,\n",
       "       -0.0030555 ,  0.05645315, -0.01248533, -0.01656068,  0.01952201],\n",
       "      dtype=float32)"
      ]
     },
     "execution_count": 12,
     "metadata": {},
     "output_type": "execute_result"
    }
   ],
   "source": [
    "np.mean(wordvec, axis=0)"
   ]
  },
  {
   "cell_type": "code",
   "execution_count": 13,
   "id": "a7c165d1",
   "metadata": {
    "execution": {
     "iopub.execute_input": "2023-05-13T12:09:13.217552Z",
     "iopub.status.busy": "2023-05-13T12:09:13.217170Z",
     "iopub.status.idle": "2023-05-13T12:09:13.223691Z",
     "shell.execute_reply": "2023-05-13T12:09:13.222821Z"
    },
    "papermill": {
     "duration": 0.014178,
     "end_time": "2023-05-13T12:09:13.225310",
     "exception": false,
     "start_time": "2023-05-13T12:09:13.211132",
     "status": "completed"
    },
    "tags": []
   },
   "outputs": [
    {
     "data": {
      "text/plain": [
       "array([0.08898099, 0.04835419, 0.03683598, 0.09910005, 0.06153275,\n",
       "       0.05853238, 0.09809195, 0.02443584, 0.02258943, 0.09779203],\n",
       "      dtype=float32)"
      ]
     },
     "execution_count": 13,
     "metadata": {},
     "output_type": "execute_result"
    }
   ],
   "source": [
    "np.max(wordvec, axis=0)"
   ]
  },
  {
   "cell_type": "code",
   "execution_count": null,
   "id": "9dbd6bea",
   "metadata": {
    "papermill": {
     "duration": 0.004525,
     "end_time": "2023-05-13T12:09:13.234876",
     "exception": false,
     "start_time": "2023-05-13T12:09:13.230351",
     "status": "completed"
    },
    "tags": []
   },
   "outputs": [],
   "source": []
  }
 ],
 "metadata": {
  "kernelspec": {
   "display_name": "Python 3 (ipykernel)",
   "language": "python",
   "name": "python3"
  },
  "language_info": {
   "codemirror_mode": {
    "name": "ipython",
    "version": 3
   },
   "file_extension": ".py",
   "mimetype": "text/x-python",
   "name": "python",
   "nbconvert_exporter": "python",
   "pygments_lexer": "ipython3",
   "version": "3.11.6"
  },
  "papermill": {
   "default_parameters": {},
   "duration": 11.148552,
   "end_time": "2023-05-13T12:09:14.160444",
   "environment_variables": {},
   "exception": null,
   "input_path": "__notebook__.ipynb",
   "output_path": "__notebook__.ipynb",
   "parameters": {},
   "start_time": "2023-05-13T12:09:03.011892",
   "version": "2.4.0"
  }
 },
 "nbformat": 4,
 "nbformat_minor": 5
}
