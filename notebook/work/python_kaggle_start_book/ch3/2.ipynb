{
 "cells": [
  {
   "cell_type": "markdown",
   "id": "0e9c7bb9",
   "metadata": {
    "papermill": {
     "duration": 0.003724,
     "end_time": "2023-05-13T12:03:08.837868",
     "exception": false,
     "start_time": "2023-05-13T12:03:08.834144",
     "status": "completed"
    },
    "tags": []
   },
   "source": [
    "This notebook is a sample code with Japanese comments.\n",
    "\n",
    "Ref: [TRAINING A CLASSIFIER](https://pytorch.org/tutorials/beginner/blitz/cifar10_tutorial.html)\n",
    "\n",
    "# 3.2 Titanicの先へ行く②！　画像データに触れてみよう"
   ]
  },
  {
   "cell_type": "code",
   "execution_count": 2,
   "id": "2fbffa50-b95f-4d10-b465-a8f319a076f1",
   "metadata": {
    "scrolled": true
   },
   "outputs": [
    {
     "name": "stdout",
     "output_type": "stream",
     "text": [
      "Collecting torch\n",
      "  Downloading torch-2.5.1-cp311-cp311-manylinux2014_aarch64.whl.metadata (28 kB)\n",
      "Collecting torchvision\n",
      "  Downloading torchvision-0.20.1-cp311-cp311-manylinux2014_aarch64.whl.metadata (6.1 kB)\n",
      "Collecting filelock (from torch)\n",
      "  Downloading filelock-3.16.1-py3-none-any.whl.metadata (2.9 kB)\n",
      "Requirement already satisfied: typing-extensions>=4.8.0 in /opt/conda/lib/python3.11/site-packages (from torch) (4.12.2)\n",
      "Requirement already satisfied: networkx in /opt/conda/lib/python3.11/site-packages (from torch) (3.2)\n",
      "Requirement already satisfied: jinja2 in /opt/conda/lib/python3.11/site-packages (from torch) (3.1.2)\n",
      "Requirement already satisfied: fsspec in /opt/conda/lib/python3.11/site-packages (from torch) (2023.9.2)\n",
      "Collecting sympy==1.13.1 (from torch)\n",
      "  Downloading sympy-1.13.1-py3-none-any.whl.metadata (12 kB)\n",
      "Requirement already satisfied: mpmath<1.4,>=1.1.0 in /opt/conda/lib/python3.11/site-packages (from sympy==1.13.1->torch) (1.3.0)\n",
      "Requirement already satisfied: numpy in /opt/conda/lib/python3.11/site-packages (from torchvision) (1.24.4)\n",
      "Requirement already satisfied: pillow!=8.3.*,>=5.3.0 in /opt/conda/lib/python3.11/site-packages (from torchvision) (10.1.0)\n",
      "Requirement already satisfied: MarkupSafe>=2.0 in /opt/conda/lib/python3.11/site-packages (from jinja2->torch) (2.1.3)\n",
      "Downloading torch-2.5.1-cp311-cp311-manylinux2014_aarch64.whl (91.9 MB)\n",
      "\u001b[2K   \u001b[90m━━━━━━━━━━━━━━━━━━━━━━━━━━━━━━━━━━━━━━━━\u001b[0m \u001b[32m91.9/91.9 MB\u001b[0m \u001b[31m38.0 MB/s\u001b[0m eta \u001b[36m0:00:00\u001b[0m00:01\u001b[0m00:01\u001b[0m\n",
      "\u001b[?25hDownloading sympy-1.13.1-py3-none-any.whl (6.2 MB)\n",
      "\u001b[2K   \u001b[90m━━━━━━━━━━━━━━━━━━━━━━━━━━━━━━━━━━━━━━━━\u001b[0m \u001b[32m6.2/6.2 MB\u001b[0m \u001b[31m47.7 MB/s\u001b[0m eta \u001b[36m0:00:00\u001b[0ma \u001b[36m0:00:01\u001b[0m\n",
      "\u001b[?25hDownloading torchvision-0.20.1-cp311-cp311-manylinux2014_aarch64.whl (14.3 MB)\n",
      "\u001b[2K   \u001b[90m━━━━━━━━━━━━━━━━━━━━━━━━━━━━━━━━━━━━━━━━\u001b[0m \u001b[32m14.3/14.3 MB\u001b[0m \u001b[31m49.6 MB/s\u001b[0m eta \u001b[36m0:00:00\u001b[0ma \u001b[36m0:00:01\u001b[0m\n",
      "\u001b[?25hDownloading filelock-3.16.1-py3-none-any.whl (16 kB)\n",
      "Installing collected packages: sympy, filelock, torch, torchvision\n",
      "  Attempting uninstall: sympy\n",
      "    Found existing installation: sympy 1.12\n",
      "    Uninstalling sympy-1.12:\n",
      "      Successfully uninstalled sympy-1.12\n",
      "Successfully installed filelock-3.16.1 sympy-1.13.1 torch-2.5.1 torchvision-0.20.1\n"
     ]
    }
   ],
   "source": [
    "!pip install torch torchvision"
   ]
  },
  {
   "cell_type": "code",
   "execution_count": 3,
   "id": "932f7739",
   "metadata": {
    "_cell_guid": "b1076dfc-b9ad-4769-8c92-a6c4dae69d19",
    "_uuid": "8f2839f25d086af736a60e9eeb907d3b93b6e0e5",
    "papermill": {
     "duration": 4.327612,
     "end_time": "2023-05-13T12:03:13.168996",
     "exception": false,
     "start_time": "2023-05-13T12:03:08.841384",
     "status": "completed"
    },
    "tags": []
   },
   "outputs": [],
   "source": [
    "import torch\n",
    "import torchvision\n",
    "import torchvision.transforms as transforms"
   ]
  },
  {
   "cell_type": "code",
   "execution_count": 5,
   "id": "fded98c1",
   "metadata": {
    "_cell_guid": "79c7e3d0-c299-4dcb-8224-4455121ee9b0",
    "_uuid": "d629ff2d2480ee46fbb7e2d37f6b5fab8052498a",
    "papermill": {
     "duration": 7.699137,
     "end_time": "2023-05-13T12:03:20.873321",
     "exception": false,
     "start_time": "2023-05-13T12:03:13.174184",
     "status": "completed"
    },
    "tags": []
   },
   "outputs": [
    {
     "name": "stdout",
     "output_type": "stream",
     "text": [
      "Files already downloaded and verified\n",
      "Files already downloaded and verified\n"
     ]
    }
   ],
   "source": [
    "# CIFAR10という画像分類のデータを使用\n",
    "# テーブルデータと共通する部分\n",
    "# - 機械学習の教師あり学習\n",
    "#   - 学習用データセットの特徴量、目的変数の対応関係を機械学習アルゴリズムで学習して未知のデータセットに対する性能を得る\n",
    "transform = transforms.Compose(\n",
    "    [transforms.ToTensor(),\n",
    "     transforms.Normalize((0.5, 0.5, 0.5), (0.5, 0.5, 0.5))])\n",
    "\n",
    "trainset = torchvision.datasets.CIFAR10(root='./data', train=True,\n",
    "                                        download=True, transform=transform)\n",
    "trainloader = torch.utils.data.DataLoader(trainset, batch_size=4,\n",
    "                                          shuffle=True, num_workers=2)\n",
    "\n",
    "testset = torchvision.datasets.CIFAR10(root='./data', train=False,\n",
    "                                       download=True, transform=transform)\n",
    "testloader = torch.utils.data.DataLoader(testset, batch_size=4,\n",
    "                                         shuffle=False, num_workers=2)\n",
    "\n",
    "classes = ('plane', 'car', 'bird', 'cat',\n",
    "           'deer', 'dog', 'frog', 'horse', 'ship', 'truck')"
   ]
  },
  {
   "cell_type": "code",
   "execution_count": 6,
   "id": "80658097",
   "metadata": {
    "papermill": {
     "duration": 0.452491,
     "end_time": "2023-05-13T12:03:21.332760",
     "exception": false,
     "start_time": "2023-05-13T12:03:20.880269",
     "status": "completed"
    },
    "tags": []
   },
   "outputs": [
    {
     "data": {
      "image/png": "[encoded data removed]",
      "text/plain": [
       "<Figure size 640x480 with 1 Axes>"
      ]
     },
     "metadata": {},
     "output_type": "display_data"
    },
    {
     "name": "stdout",
     "output_type": "stream",
     "text": [
      "plane   car horse  frog\n"
     ]
    }
   ],
   "source": [
    "import matplotlib.pyplot as plt\n",
    "import numpy as np\n",
    "\n",
    "# 画像を可視化\n",
    "def imshow(img):\n",
    "    img = img / 2 + 0.5\n",
    "    npimg = img.numpy()\n",
    "    plt.imshow(np.transpose(npimg, (1, 2, 0)))\n",
    "    plt.show()\n",
    "\n",
    "dataiter = iter(trainloader)\n",
    "images, labels = next(dataiter)\n",
    "imshow(torchvision.utils.make_grid(images))\n",
    "print(' '.join('%5s' % classes[labels[j]] for j in range(4)))"
   ]
  },
  {
   "cell_type": "code",
   "execution_count": 7,
   "id": "7d0b2669",
   "metadata": {
    "papermill": {
     "duration": 0.020049,
     "end_time": "2023-05-13T12:03:21.360127",
     "exception": false,
     "start_time": "2023-05-13T12:03:21.340078",
     "status": "completed"
    },
    "tags": []
   },
   "outputs": [
    {
     "data": {
      "text/plain": [
       "torch.Size([4, 3, 32, 32])"
      ]
     },
     "execution_count": 7,
     "metadata": {},
     "output_type": "execute_result"
    }
   ],
   "source": [
    "images.shape"
   ]
  },
  {
   "cell_type": "code",
   "execution_count": 9,
   "id": "06f94bac",
   "metadata": {
    "papermill": {
     "duration": 0.042966,
     "end_time": "2023-05-13T12:03:21.411068",
     "exception": false,
     "start_time": "2023-05-13T12:03:21.368102",
     "status": "completed"
    },
    "tags": []
   },
   "outputs": [
    {
     "data": {
      "text/plain": [
       "tensor([[[-0.0824, -0.0431, -0.0039,  ..., -0.2392, -0.2941, -0.3412],\n",
       "         [-0.0667, -0.0196,  0.0118,  ..., -0.2157, -0.2706, -0.3255],\n",
       "         [-0.0588, -0.0196,  0.0275,  ..., -0.2157, -0.2627, -0.3098],\n",
       "         ...,\n",
       "         [-0.3255, -0.3020, -0.2706,  ..., -0.2941, -0.3098, -0.3333],\n",
       "         [-0.3490, -0.3333, -0.3098,  ..., -0.3176, -0.3333, -0.3490],\n",
       "         [-0.3569, -0.3412, -0.3333,  ..., -0.3412, -0.3569, -0.3804]],\n",
       "\n",
       "        [[-0.1843, -0.1451, -0.1059,  ..., -0.3176, -0.3647, -0.4118],\n",
       "         [-0.1686, -0.1216, -0.0902,  ..., -0.2941, -0.3412, -0.3961],\n",
       "         [-0.1608, -0.1216, -0.0745,  ..., -0.2863, -0.3333, -0.3804],\n",
       "         ...,\n",
       "         [-0.4431, -0.4196, -0.3882,  ..., -0.3882, -0.4039, -0.4275],\n",
       "         [-0.4667, -0.4510, -0.4196,  ..., -0.4118, -0.4275, -0.4431],\n",
       "         [-0.4745, -0.4588, -0.4510,  ..., -0.4353, -0.4510, -0.4745]],\n",
       "\n",
       "        [[ 0.4431,  0.4745,  0.5137,  ...,  0.3176,  0.2706,  0.2235],\n",
       "         [ 0.4510,  0.4980,  0.5294,  ...,  0.3412,  0.2941,  0.2392],\n",
       "         [ 0.4667,  0.4980,  0.5451,  ...,  0.3490,  0.3020,  0.2549],\n",
       "         ...,\n",
       "         [ 0.0745,  0.0902,  0.1216,  ...,  0.1922,  0.1765,  0.1529],\n",
       "         [ 0.0510,  0.0588,  0.0824,  ...,  0.1608,  0.1529,  0.1373],\n",
       "         [ 0.0353,  0.0431,  0.0588,  ...,  0.1373,  0.1294,  0.1059]]])"
      ]
     },
     "execution_count": 9,
     "metadata": {},
     "output_type": "execute_result"
    }
   ],
   "source": [
    "# 画像1枚の数値データがTitanicでのテーブル1行に対応\n",
    "images[0]"
   ]
  }
 ],
 "metadata": {
  "kernelspec": {
   "display_name": "Python 3 (ipykernel)",
   "language": "python",
   "name": "python3"
  },
  "language_info": {
   "codemirror_mode": {
    "name": "ipython",
    "version": 3
   },
   "file_extension": ".py",
   "mimetype": "text/x-python",
   "name": "python",
   "nbconvert_exporter": "python",
   "pygments_lexer": "ipython3",
   "version": "3.11.6"
  },
  "papermill": {
   "default_parameters": {},
   "duration": 30.444724,
   "end_time": "2023-05-13T12:03:24.056387",
   "environment_variables": {},
   "exception": null,
   "input_path": "__notebook__.ipynb",
   "output_path": "__notebook__.ipynb",
   "parameters": {},
   "start_time": "2023-05-13T12:02:53.611663",
   "version": "2.4.0"
  }
 },
 "nbformat": 4,
 "nbformat_minor": 5
}
