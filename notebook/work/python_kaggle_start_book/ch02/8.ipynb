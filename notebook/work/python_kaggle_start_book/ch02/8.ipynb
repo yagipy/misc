{
 "cells": [
  {
   "cell_type": "markdown",
   "id": "ea6a02e9",
   "metadata": {
    "_cell_guid": "e12020f7-4f94-4ecc-9007-9b7a6e7458a6",
    "_uuid": "1fecb0980d8d422ec0f005c4bfd6225385c2c60f",
    "papermill": {
     "duration": 0.00407,
     "end_time": "2023-05-13T11:53:11.556442",
     "exception": false,
     "start_time": "2023-05-13T11:53:11.552372",
     "status": "completed"
    },
    "tags": []
   },
   "source": [
    "This notebook is a sample code with Japanese comments.\n",
    "\n",
    "# 2.8 三人寄れば文殊の知恵！　アンサンブルを体験しよう"
   ]
  },
  {
   "cell_type": "code",
   "execution_count": 2,
   "id": "3f158cd2",
   "metadata": {
    "papermill": {
     "duration": 1.114754,
     "end_time": "2023-05-13T11:53:12.674983",
     "exception": false,
     "start_time": "2023-05-13T11:53:11.560229",
     "status": "completed"
    },
    "tags": []
   },
   "outputs": [
    {
     "name": "stdout",
     "output_type": "stream",
     "text": [
      "1~2.ipynb  6.ipynb                          submission_lightgbm_skfold.csv\n",
      "3.ipynb    7.ipynb                          submission_randomforest.csv\n",
      "4.ipynb    8.ipynb\n",
      "5.ipynb    submission_lightgbm_holdout.csv\n"
     ]
    }
   ],
   "source": [
    "ls"
   ]
  },
  {
   "cell_type": "code",
   "execution_count": 4,
   "id": "b53cd5dd",
   "metadata": {
    "papermill": {
     "duration": 0.046755,
     "end_time": "2023-05-13T11:53:12.725770",
     "exception": false,
     "start_time": "2023-05-13T11:53:12.679015",
     "status": "completed"
    },
    "tags": []
   },
   "outputs": [],
   "source": [
    "import pandas as pd\n",
    "\n",
    "sub_lgbm_sk = pd.read_csv('submission_lightgbm_skfold.csv')\n",
    "sub_lgbm_ho = pd.read_csv('submission_lightgbm_holdout.csv')\n",
    "sub_rf = pd.read_csv('submission_randomforest.csv')"
   ]
  },
  {
   "cell_type": "code",
   "execution_count": 5,
   "id": "da6d3413",
   "metadata": {
    "papermill": {
     "duration": 0.040147,
     "end_time": "2023-05-13T11:53:12.770048",
     "exception": false,
     "start_time": "2023-05-13T11:53:12.729901",
     "status": "completed"
    },
    "scrolled": true,
    "tags": []
   },
   "outputs": [
    {
     "data": {
      "text/html": [
       "<div>\n",
       "<style scoped>\n",
       "    .dataframe tbody tr th:only-of-type {\n",
       "        vertical-align: middle;\n",
       "    }\n",
       "\n",
       "    .dataframe tbody tr th {\n",
       "        vertical-align: top;\n",
       "    }\n",
       "\n",
       "    .dataframe thead th {\n",
       "        text-align: right;\n",
       "    }\n",
       "</style>\n",
       "<table border=\"1\" class=\"dataframe\">\n",
       "  <thead>\n",
       "    <tr style=\"text-align: right;\">\n",
       "      <th></th>\n",
       "      <th>PassengerId</th>\n",
       "      <th>Survived</th>\n",
       "    </tr>\n",
       "  </thead>\n",
       "  <tbody>\n",
       "    <tr>\n",
       "      <th>0</th>\n",
       "      <td>892</td>\n",
       "      <td>0</td>\n",
       "    </tr>\n",
       "    <tr>\n",
       "      <th>1</th>\n",
       "      <td>893</td>\n",
       "      <td>0</td>\n",
       "    </tr>\n",
       "    <tr>\n",
       "      <th>2</th>\n",
       "      <td>894</td>\n",
       "      <td>0</td>\n",
       "    </tr>\n",
       "    <tr>\n",
       "      <th>3</th>\n",
       "      <td>895</td>\n",
       "      <td>0</td>\n",
       "    </tr>\n",
       "    <tr>\n",
       "      <th>4</th>\n",
       "      <td>896</td>\n",
       "      <td>0</td>\n",
       "    </tr>\n",
       "  </tbody>\n",
       "</table>\n",
       "</div>"
      ],
      "text/plain": [
       "   PassengerId  Survived\n",
       "0          892         0\n",
       "1          893         0\n",
       "2          894         0\n",
       "3          895         0\n",
       "4          896         0"
      ]
     },
     "execution_count": 5,
     "metadata": {},
     "output_type": "execute_result"
    }
   ],
   "source": [
    "sub_lgbm_sk.head()"
   ]
  },
  {
   "cell_type": "code",
   "execution_count": 6,
   "id": "c8d99e17",
   "metadata": {
    "papermill": {
     "duration": 0.020598,
     "end_time": "2023-05-13T11:53:12.794774",
     "exception": false,
     "start_time": "2023-05-13T11:53:12.774176",
     "status": "completed"
    },
    "scrolled": true,
    "tags": []
   },
   "outputs": [
    {
     "data": {
      "text/html": [
       "<div>\n",
       "<style scoped>\n",
       "    .dataframe tbody tr th:only-of-type {\n",
       "        vertical-align: middle;\n",
       "    }\n",
       "\n",
       "    .dataframe tbody tr th {\n",
       "        vertical-align: top;\n",
       "    }\n",
       "\n",
       "    .dataframe thead th {\n",
       "        text-align: right;\n",
       "    }\n",
       "</style>\n",
       "<table border=\"1\" class=\"dataframe\">\n",
       "  <thead>\n",
       "    <tr style=\"text-align: right;\">\n",
       "      <th></th>\n",
       "      <th>sub_lgbm_sk</th>\n",
       "      <th>sub_lgbm_ho</th>\n",
       "      <th>sub_rf</th>\n",
       "    </tr>\n",
       "  </thead>\n",
       "  <tbody>\n",
       "    <tr>\n",
       "      <th>0</th>\n",
       "      <td>0</td>\n",
       "      <td>0</td>\n",
       "      <td>0</td>\n",
       "    </tr>\n",
       "    <tr>\n",
       "      <th>1</th>\n",
       "      <td>0</td>\n",
       "      <td>1</td>\n",
       "      <td>1</td>\n",
       "    </tr>\n",
       "    <tr>\n",
       "      <th>2</th>\n",
       "      <td>0</td>\n",
       "      <td>0</td>\n",
       "      <td>0</td>\n",
       "    </tr>\n",
       "    <tr>\n",
       "      <th>3</th>\n",
       "      <td>0</td>\n",
       "      <td>0</td>\n",
       "      <td>0</td>\n",
       "    </tr>\n",
       "    <tr>\n",
       "      <th>4</th>\n",
       "      <td>0</td>\n",
       "      <td>0</td>\n",
       "      <td>1</td>\n",
       "    </tr>\n",
       "  </tbody>\n",
       "</table>\n",
       "</div>"
      ],
      "text/plain": [
       "   sub_lgbm_sk  sub_lgbm_ho  sub_rf\n",
       "0            0            0       0\n",
       "1            0            1       1\n",
       "2            0            0       0\n",
       "3            0            0       0\n",
       "4            0            0       1"
      ]
     },
     "execution_count": 6,
     "metadata": {},
     "output_type": "execute_result"
    }
   ],
   "source": [
    "df = pd.DataFrame({'sub_lgbm_sk': sub_lgbm_sk['Survived'].values,\n",
    "                   'sub_lgbm_ho': sub_lgbm_ho['Survived'].values,\n",
    "                   'sub_rf': sub_rf['Survived'].values})\n",
    "df.head()"
   ]
  },
  {
   "cell_type": "code",
   "execution_count": 9,
   "id": "5665803f",
   "metadata": {
    "papermill": {
     "duration": 0.024134,
     "end_time": "2023-05-13T11:53:12.823229",
     "exception": false,
     "start_time": "2023-05-13T11:53:12.799095",
     "status": "completed"
    },
    "tags": []
   },
   "outputs": [
    {
     "data": {
      "text/html": [
       "<div>\n",
       "<style scoped>\n",
       "    .dataframe tbody tr th:only-of-type {\n",
       "        vertical-align: middle;\n",
       "    }\n",
       "\n",
       "    .dataframe tbody tr th {\n",
       "        vertical-align: top;\n",
       "    }\n",
       "\n",
       "    .dataframe thead th {\n",
       "        text-align: right;\n",
       "    }\n",
       "</style>\n",
       "<table border=\"1\" class=\"dataframe\">\n",
       "  <thead>\n",
       "    <tr style=\"text-align: right;\">\n",
       "      <th></th>\n",
       "      <th>sub_lgbm_sk</th>\n",
       "      <th>sub_lgbm_ho</th>\n",
       "      <th>sub_rf</th>\n",
       "    </tr>\n",
       "  </thead>\n",
       "  <tbody>\n",
       "    <tr>\n",
       "      <th>sub_lgbm_sk</th>\n",
       "      <td>1.000000</td>\n",
       "      <td>0.910218</td>\n",
       "      <td>0.792479</td>\n",
       "    </tr>\n",
       "    <tr>\n",
       "      <th>sub_lgbm_ho</th>\n",
       "      <td>0.910218</td>\n",
       "      <td>1.000000</td>\n",
       "      <td>0.752897</td>\n",
       "    </tr>\n",
       "    <tr>\n",
       "      <th>sub_rf</th>\n",
       "      <td>0.792479</td>\n",
       "      <td>0.752897</td>\n",
       "      <td>1.000000</td>\n",
       "    </tr>\n",
       "  </tbody>\n",
       "</table>\n",
       "</div>"
      ],
      "text/plain": [
       "             sub_lgbm_sk  sub_lgbm_ho    sub_rf\n",
       "sub_lgbm_sk     1.000000     0.910218  0.792479\n",
       "sub_lgbm_ho     0.910218     1.000000  0.752897\n",
       "sub_rf          0.792479     0.752897  1.000000"
      ]
     },
     "execution_count": 9,
     "metadata": {},
     "output_type": "execute_result"
    }
   ],
   "source": [
    "# 予測値の相関を計算\n",
    "# 小さい方が望ましい\n",
    "# 0.95以下ならば十分に相関が小さいと言える\n",
    "df.corr()"
   ]
  },
  {
   "cell_type": "code",
   "execution_count": 10,
   "id": "c0b1eadc",
   "metadata": {
    "papermill": {
     "duration": 0.027031,
     "end_time": "2023-05-13T11:53:12.854996",
     "exception": false,
     "start_time": "2023-05-13T11:53:12.827965",
     "status": "completed"
    },
    "tags": []
   },
   "outputs": [
    {
     "data": {
      "text/html": [
       "<div>\n",
       "<style scoped>\n",
       "    .dataframe tbody tr th:only-of-type {\n",
       "        vertical-align: middle;\n",
       "    }\n",
       "\n",
       "    .dataframe tbody tr th {\n",
       "        vertical-align: top;\n",
       "    }\n",
       "\n",
       "    .dataframe thead th {\n",
       "        text-align: right;\n",
       "    }\n",
       "</style>\n",
       "<table border=\"1\" class=\"dataframe\">\n",
       "  <thead>\n",
       "    <tr style=\"text-align: right;\">\n",
       "      <th></th>\n",
       "      <th>PassengerId</th>\n",
       "      <th>Survived</th>\n",
       "    </tr>\n",
       "  </thead>\n",
       "  <tbody>\n",
       "    <tr>\n",
       "      <th>0</th>\n",
       "      <td>892</td>\n",
       "      <td>0</td>\n",
       "    </tr>\n",
       "    <tr>\n",
       "      <th>1</th>\n",
       "      <td>893</td>\n",
       "      <td>2</td>\n",
       "    </tr>\n",
       "    <tr>\n",
       "      <th>2</th>\n",
       "      <td>894</td>\n",
       "      <td>0</td>\n",
       "    </tr>\n",
       "    <tr>\n",
       "      <th>3</th>\n",
       "      <td>895</td>\n",
       "      <td>0</td>\n",
       "    </tr>\n",
       "    <tr>\n",
       "      <th>4</th>\n",
       "      <td>896</td>\n",
       "      <td>1</td>\n",
       "    </tr>\n",
       "  </tbody>\n",
       "</table>\n",
       "</div>"
      ],
      "text/plain": [
       "   PassengerId  Survived\n",
       "0          892         0\n",
       "1          893         2\n",
       "2          894         0\n",
       "3          895         0\n",
       "4          896         1"
      ]
     },
     "execution_count": 10,
     "metadata": {},
     "output_type": "execute_result"
    }
   ],
   "source": [
    "# 多数決で予測値を決定\n",
    "sub = pd.read_csv('../input/titanic/gender_submission.csv')\n",
    "sub['Survived'] = sub_lgbm_sk['Survived'] + sub_lgbm_ho['Survived'] + sub_rf['Survived']\n",
    "sub.head()"
   ]
  },
  {
   "cell_type": "code",
   "execution_count": 11,
   "id": "2d630841",
   "metadata": {
    "papermill": {
     "duration": 0.028022,
     "end_time": "2023-05-13T11:53:12.887880",
     "exception": false,
     "start_time": "2023-05-13T11:53:12.859858",
     "status": "completed"
    },
    "tags": []
   },
   "outputs": [
    {
     "data": {
      "text/html": [
       "<div>\n",
       "<style scoped>\n",
       "    .dataframe tbody tr th:only-of-type {\n",
       "        vertical-align: middle;\n",
       "    }\n",
       "\n",
       "    .dataframe tbody tr th {\n",
       "        vertical-align: top;\n",
       "    }\n",
       "\n",
       "    .dataframe thead th {\n",
       "        text-align: right;\n",
       "    }\n",
       "</style>\n",
       "<table border=\"1\" class=\"dataframe\">\n",
       "  <thead>\n",
       "    <tr style=\"text-align: right;\">\n",
       "      <th></th>\n",
       "      <th>PassengerId</th>\n",
       "      <th>Survived</th>\n",
       "    </tr>\n",
       "  </thead>\n",
       "  <tbody>\n",
       "    <tr>\n",
       "      <th>0</th>\n",
       "      <td>892</td>\n",
       "      <td>0</td>\n",
       "    </tr>\n",
       "    <tr>\n",
       "      <th>1</th>\n",
       "      <td>893</td>\n",
       "      <td>1</td>\n",
       "    </tr>\n",
       "    <tr>\n",
       "      <th>2</th>\n",
       "      <td>894</td>\n",
       "      <td>0</td>\n",
       "    </tr>\n",
       "    <tr>\n",
       "      <th>3</th>\n",
       "      <td>895</td>\n",
       "      <td>0</td>\n",
       "    </tr>\n",
       "    <tr>\n",
       "      <th>4</th>\n",
       "      <td>896</td>\n",
       "      <td>0</td>\n",
       "    </tr>\n",
       "  </tbody>\n",
       "</table>\n",
       "</div>"
      ],
      "text/plain": [
       "   PassengerId  Survived\n",
       "0          892         0\n",
       "1          893         1\n",
       "2          894         0\n",
       "3          895         0\n",
       "4          896         0"
      ]
     },
     "execution_count": 11,
     "metadata": {},
     "output_type": "execute_result"
    }
   ],
   "source": [
    "sub['Survived'] = (sub['Survived'] >= 2).astype(int)\n",
    "sub.to_csv('submission_lightgbm_ensemble.csv', index=False)\n",
    "sub.head()"
   ]
  }
 ],
 "metadata": {
  "kernelspec": {
   "display_name": "Python 3 (ipykernel)",
   "language": "python",
   "name": "python3"
  },
  "language_info": {
   "codemirror_mode": {
    "name": "ipython",
    "version": 3
   },
   "file_extension": ".py",
   "mimetype": "text/x-python",
   "name": "python",
   "nbconvert_exporter": "python",
   "pygments_lexer": "ipython3",
   "version": "3.11.6"
  },
  "papermill": {
   "default_parameters": {},
   "duration": 15.648631,
   "end_time": "2023-05-13T11:53:14.125074",
   "environment_variables": {},
   "exception": null,
   "input_path": "__notebook__.ipynb",
   "output_path": "__notebook__.ipynb",
   "parameters": {},
   "start_time": "2023-05-13T11:52:58.476443",
   "version": "2.4.0"
  }
 },
 "nbformat": 4,
 "nbformat_minor": 5
}
