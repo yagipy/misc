{
 "cells": [
  {
   "cell_type": "code",
   "execution_count": 74,
   "id": "1bdc8718-56b8-4c5e-8a57-e8b58bd9b17f",
   "metadata": {
    "scrolled": true
   },
   "outputs": [
    {
     "name": "stdout",
     "output_type": "stream",
     "text": [
      "Requirement already satisfied: pymc in /opt/conda/lib/python3.11/site-packages (5.19.1)\n",
      "Requirement already satisfied: arviz>=0.13.0 in /opt/conda/lib/python3.11/site-packages (from pymc) (0.20.0)\n",
      "Requirement already satisfied: cachetools>=4.2.1 in /opt/conda/lib/python3.11/site-packages (from pymc) (5.5.0)\n",
      "Requirement already satisfied: cloudpickle in /opt/conda/lib/python3.11/site-packages (from pymc) (3.0.0)\n",
      "Requirement already satisfied: numpy>=1.25.0 in /opt/conda/lib/python3.11/site-packages (from pymc) (1.26.4)\n",
      "Requirement already satisfied: pandas>=0.24.0 in /opt/conda/lib/python3.11/site-packages (from pymc) (2.1.1)\n",
      "Requirement already satisfied: pytensor<2.27,>=2.26.1 in /opt/conda/lib/python3.11/site-packages (from pymc) (2.26.4)\n",
      "Requirement already satisfied: rich>=13.7.1 in /opt/conda/lib/python3.11/site-packages (from pymc) (13.9.4)\n",
      "Requirement already satisfied: scipy>=1.4.1 in /opt/conda/lib/python3.11/site-packages (from pymc) (1.11.3)\n",
      "Requirement already satisfied: threadpoolctl<4.0.0,>=3.1.0 in /opt/conda/lib/python3.11/site-packages (from pymc) (3.2.0)\n",
      "Requirement already satisfied: typing-extensions>=3.7.4 in /opt/conda/lib/python3.11/site-packages (from pymc) (4.8.0)\n",
      "Requirement already satisfied: setuptools>=60.0.0 in /opt/conda/lib/python3.11/site-packages (from arviz>=0.13.0->pymc) (68.2.2)\n",
      "Requirement already satisfied: matplotlib>=3.5 in /opt/conda/lib/python3.11/site-packages (from arviz>=0.13.0->pymc) (3.8.0)\n",
      "Requirement already satisfied: packaging in /opt/conda/lib/python3.11/site-packages (from arviz>=0.13.0->pymc) (23.2)\n",
      "Requirement already satisfied: xarray>=2022.6.0 in /opt/conda/lib/python3.11/site-packages (from arviz>=0.13.0->pymc) (2024.11.0)\n",
      "Requirement already satisfied: h5netcdf>=1.0.2 in /opt/conda/lib/python3.11/site-packages (from arviz>=0.13.0->pymc) (1.4.1)\n",
      "Requirement already satisfied: xarray-einstats>=0.3 in /opt/conda/lib/python3.11/site-packages (from arviz>=0.13.0->pymc) (0.8.0)\n",
      "Requirement already satisfied: python-dateutil>=2.8.2 in /opt/conda/lib/python3.11/site-packages (from pandas>=0.24.0->pymc) (2.8.2)\n",
      "Requirement already satisfied: pytz>=2020.1 in /opt/conda/lib/python3.11/site-packages (from pandas>=0.24.0->pymc) (2023.3.post1)\n",
      "Requirement already satisfied: tzdata>=2022.1 in /opt/conda/lib/python3.11/site-packages (from pandas>=0.24.0->pymc) (2023.3)\n",
      "Requirement already satisfied: filelock>=3.15 in /opt/conda/lib/python3.11/site-packages (from pytensor<2.27,>=2.26.1->pymc) (3.16.1)\n",
      "Requirement already satisfied: etuples in /opt/conda/lib/python3.11/site-packages (from pytensor<2.27,>=2.26.1->pymc) (0.3.9)\n",
      "Requirement already satisfied: logical-unification in /opt/conda/lib/python3.11/site-packages (from pytensor<2.27,>=2.26.1->pymc) (0.4.6)\n",
      "Requirement already satisfied: miniKanren in /opt/conda/lib/python3.11/site-packages (from pytensor<2.27,>=2.26.1->pymc) (1.0.3)\n",
      "Requirement already satisfied: cons in /opt/conda/lib/python3.11/site-packages (from pytensor<2.27,>=2.26.1->pymc) (0.4.6)\n",
      "Requirement already satisfied: markdown-it-py>=2.2.0 in /opt/conda/lib/python3.11/site-packages (from rich>=13.7.1->pymc) (3.0.0)\n",
      "Requirement already satisfied: pygments<3.0.0,>=2.13.0 in /opt/conda/lib/python3.11/site-packages (from rich>=13.7.1->pymc) (2.16.1)\n",
      "Requirement already satisfied: h5py in /opt/conda/lib/python3.11/site-packages (from h5netcdf>=1.0.2->arviz>=0.13.0->pymc) (3.10.0)\n",
      "Requirement already satisfied: mdurl~=0.1 in /opt/conda/lib/python3.11/site-packages (from markdown-it-py>=2.2.0->rich>=13.7.1->pymc) (0.1.2)\n",
      "Requirement already satisfied: contourpy>=1.0.1 in /opt/conda/lib/python3.11/site-packages (from matplotlib>=3.5->arviz>=0.13.0->pymc) (1.1.1)\n",
      "Requirement already satisfied: cycler>=0.10 in /opt/conda/lib/python3.11/site-packages (from matplotlib>=3.5->arviz>=0.13.0->pymc) (0.12.1)\n",
      "Requirement already satisfied: fonttools>=4.22.0 in /opt/conda/lib/python3.11/site-packages (from matplotlib>=3.5->arviz>=0.13.0->pymc) (4.43.1)\n",
      "Requirement already satisfied: kiwisolver>=1.0.1 in /opt/conda/lib/python3.11/site-packages (from matplotlib>=3.5->arviz>=0.13.0->pymc) (1.4.5)\n",
      "Requirement already satisfied: pillow>=6.2.0 in /opt/conda/lib/python3.11/site-packages (from matplotlib>=3.5->arviz>=0.13.0->pymc) (10.1.0)\n",
      "Requirement already satisfied: pyparsing>=2.3.1 in /opt/conda/lib/python3.11/site-packages (from matplotlib>=3.5->arviz>=0.13.0->pymc) (3.1.1)\n",
      "Requirement already satisfied: six>=1.5 in /opt/conda/lib/python3.11/site-packages (from python-dateutil>=2.8.2->pandas>=0.24.0->pymc) (1.16.0)\n",
      "Requirement already satisfied: toolz in /opt/conda/lib/python3.11/site-packages (from logical-unification->pytensor<2.27,>=2.26.1->pymc) (0.12.0)\n",
      "Requirement already satisfied: multipledispatch in /opt/conda/lib/python3.11/site-packages (from logical-unification->pytensor<2.27,>=2.26.1->pymc) (1.0.0)\n"
     ]
    }
   ],
   "source": [
    "!pip install pymc"
   ]
  },
  {
   "cell_type": "code",
   "execution_count": 115,
   "id": "873e6f3e-0611-4e4b-b0cd-e7518e796417",
   "metadata": {},
   "outputs": [],
   "source": [
    "import numpy as np\n",
    "from matplotlib import pyplot as plt\n",
    "from collections import Counter\n",
    "import pymc as pm\n",
    "import time"
   ]
  },
  {
   "cell_type": "code",
   "execution_count": 102,
   "id": "fd3c3049-9b9f-46d0-8e16-9f360b2a6092",
   "metadata": {},
   "outputs": [],
   "source": [
    "arms = [[0, 0], [0, 1], [1, 0], [1, 1]]\n",
    "\n",
    "# トンプソンサンプリングにロジスティック回帰モデルを導入\n",
    "class MCMC_GLMTSAgent(object):\n",
    "    def __init__(self):\n",
    "        self.counts = [0 for _ in arms]\n",
    "        self.wins = [0 for _ in arms]\n",
    "        # 特徴量\n",
    "        # armsの各メンバに定数1を追加\n",
    "        self.phis = np.array([[arm[0], arm[1], 1] for arm in arms]).T\n",
    "\n",
    "    def get_arm(self):\n",
    "        if 0 in self.counts: return self.counts.index(0) # 一度も試したことがない解がある場合は、まずその解を出力\n",
    "        with pm.Model() as model:\n",
    "            w = pm.Normal(\"w\", mu = 0, sigma = 10, shape = 3) # 事前分布(多次元正規分布)\n",
    "            linpred = pm.math.dot(w, self.phis) # 線形予測子\n",
    "            theta = pm.Deterministic(\"theta\", 1 / (1 + pm.math.exp(-linpred))) # 線形予測子にロジスティック関数をかけて、各解の報酬の期待値を算出\n",
    "            obs = pm.Binomial(\"obs\", n = self.counts, p = theta, observed = self.wins)\n",
    "            trace = pm.sample(2000, chains = 1)\n",
    "\n",
    "        # sample_posterior_predictiveメソッドでsamplesとdrawsが使用できなかったので、全部サンプルしてからランダムに1つサンプル\n",
    "        pp = pm.sample_posterior_predictive(trace, model = model, var_names = [\"theta\"])\n",
    "        pp_theta = pp.posterior_predictive.theta.values\n",
    "        draw_idx = np.random.randint(pp_theta.shape[1])\n",
    "        sample = pp_theta[0, draw_idx, ...]\n",
    "\n",
    "        return np.argmax(sample)\n",
    "\n",
    "    def sample(self, arm_index, reward):\n",
    "        self.counts[arm_index] += 1\n",
    "        self.wins[arm_index] += reward"
   ]
  },
  {
   "cell_type": "code",
   "execution_count": 103,
   "id": "bc5119d3-1612-4505-9510-a328a4b7af81",
   "metadata": {},
   "outputs": [],
   "source": [
    "# 要素間に交互作用のない環境\n",
    "class Env(object):\n",
    "    def p(arm):\n",
    "        x = arm[0] * 0.2 + arm[1] * 0.8 - 4\n",
    "        p = 1 / (1 + np.exp(-x))\n",
    "        return p\n",
    "\n",
    "    def react(arm):\n",
    "        return 1 if np.random.random() < Env.p(arm) else 0\n",
    "\n",
    "    def opt():\n",
    "        return np.argmax([Env.p(arm) for arm in arms])"
   ]
  },
  {
   "cell_type": "code",
   "execution_count": 104,
   "id": "febf879c-65e0-458f-b0b4-22f89272f5c2",
   "metadata": {
    "scrolled": true
   },
   "outputs": [
    {
     "name": "stderr",
     "output_type": "stream",
     "text": [
      "Initializing NUTS using jitter+adapt_diag...\n",
      "Sequential sampling (1 chains in 1 job)\n",
      "NUTS: [w]\n"
     ]
    },
    {
     "data": {
      "application/vnd.jupyter.widget-view+json": {
       "model_id": "3af5567c1a8c4bbfac0253bb7f7ef02c",
       "version_major": 2,
       "version_minor": 0
      },
      "text/plain": [
       "Output()"
      ]
     },
     "metadata": {},
     "output_type": "display_data"
    },
    {
     "data": {
      "text/html": [
       "<pre style=\"white-space:pre;overflow-x:auto;line-height:normal;font-family:Menlo,'DejaVu Sans Mono',consolas,'Courier New',monospace\"></pre>\n"
      ],
      "text/plain": []
     },
     "metadata": {},
     "output_type": "display_data"
    },
    {
     "name": "stderr",
     "output_type": "stream",
     "text": [
      "Sampling 1 chain for 1_000 tune and 2_000 draw iterations (1_000 + 2_000 draws total) took 1 seconds.\n",
      "Only one chain was sampled, this makes it impossible to run some convergence checks\n",
      "Sampling: []\n"
     ]
    },
    {
     "data": {
      "application/vnd.jupyter.widget-view+json": {
       "model_id": "bb622f19c515413ebc7076b3ae2f99d8",
       "version_major": 2,
       "version_minor": 0
      },
      "text/plain": [
       "Output()"
      ]
     },
     "metadata": {},
     "output_type": "display_data"
    },
    {
     "data": {
      "text/html": [
       "<pre style=\"white-space:pre;overflow-x:auto;line-height:normal;font-family:Menlo,'DejaVu Sans Mono',consolas,'Courier New',monospace\"></pre>\n"
      ],
      "text/plain": []
     },
     "metadata": {},
     "output_type": "display_data"
    },
    {
     "name": "stderr",
     "output_type": "stream",
     "text": [
      "Initializing NUTS using jitter+adapt_diag...\n",
      "Sequential sampling (1 chains in 1 job)\n",
      "NUTS: [w]\n"
     ]
    },
    {
     "data": {
      "application/vnd.jupyter.widget-view+json": {
       "model_id": "1a07ea2c4117485983adfee4ae3122ca",
       "version_major": 2,
       "version_minor": 0
      },
      "text/plain": [
       "Output()"
      ]
     },
     "metadata": {},
     "output_type": "display_data"
    },
    {
     "data": {
      "text/html": [
       "<pre style=\"white-space:pre;overflow-x:auto;line-height:normal;font-family:Menlo,'DejaVu Sans Mono',consolas,'Courier New',monospace\"></pre>\n"
      ],
      "text/plain": []
     },
     "metadata": {},
     "output_type": "display_data"
    },
    {
     "name": "stderr",
     "output_type": "stream",
     "text": [
      "Sampling 1 chain for 1_000 tune and 2_000 draw iterations (1_000 + 2_000 draws total) took 1 seconds.\n",
      "Only one chain was sampled, this makes it impossible to run some convergence checks\n",
      "Sampling: []\n"
     ]
    },
    {
     "data": {
      "application/vnd.jupyter.widget-view+json": {
       "model_id": "a97e9e1338744b1191884e1f3cb5451e",
       "version_major": 2,
       "version_minor": 0
      },
      "text/plain": [
       "Output()"
      ]
     },
     "metadata": {},
     "output_type": "display_data"
    },
    {
     "data": {
      "text/html": [
       "<pre style=\"white-space:pre;overflow-x:auto;line-height:normal;font-family:Menlo,'DejaVu Sans Mono',consolas,'Courier New',monospace\"></pre>\n"
      ],
      "text/plain": []
     },
     "metadata": {},
     "output_type": "display_data"
    },
    {
     "name": "stderr",
     "output_type": "stream",
     "text": [
      "Initializing NUTS using jitter+adapt_diag...\n",
      "Sequential sampling (1 chains in 1 job)\n",
      "NUTS: [w]\n"
     ]
    },
    {
     "data": {
      "application/vnd.jupyter.widget-view+json": {
       "model_id": "22b72c6a4f3a41ababff002c862aca79",
       "version_major": 2,
       "version_minor": 0
      },
      "text/plain": [
       "Output()"
      ]
     },
     "metadata": {},
     "output_type": "display_data"
    },
    {
     "data": {
      "text/html": [
       "<pre style=\"white-space:pre;overflow-x:auto;line-height:normal;font-family:Menlo,'DejaVu Sans Mono',consolas,'Courier New',monospace\"></pre>\n"
      ],
      "text/plain": []
     },
     "metadata": {},
     "output_type": "display_data"
    },
    {
     "name": "stderr",
     "output_type": "stream",
     "text": [
      "Sampling 1 chain for 1_000 tune and 2_000 draw iterations (1_000 + 2_000 draws total) took 1 seconds.\n",
      "Only one chain was sampled, this makes it impossible to run some convergence checks\n",
      "Sampling: []\n"
     ]
    },
    {
     "data": {
      "application/vnd.jupyter.widget-view+json": {
       "model_id": "58ecec618c5148c79af3b3cf55149845",
       "version_major": 2,
       "version_minor": 0
      },
      "text/plain": [
       "Output()"
      ]
     },
     "metadata": {},
     "output_type": "display_data"
    },
    {
     "data": {
      "text/html": [
       "<pre style=\"white-space:pre;overflow-x:auto;line-height:normal;font-family:Menlo,'DejaVu Sans Mono',consolas,'Courier New',monospace\"></pre>\n"
      ],
      "text/plain": []
     },
     "metadata": {},
     "output_type": "display_data"
    },
    {
     "name": "stderr",
     "output_type": "stream",
     "text": [
      "Initializing NUTS using jitter+adapt_diag...\n",
      "Sequential sampling (1 chains in 1 job)\n",
      "NUTS: [w]\n"
     ]
    },
    {
     "data": {
      "application/vnd.jupyter.widget-view+json": {
       "model_id": "6032f6e11cce4d338f4ef8ec7b0ff65c",
       "version_major": 2,
       "version_minor": 0
      },
      "text/plain": [
       "Output()"
      ]
     },
     "metadata": {},
     "output_type": "display_data"
    },
    {
     "data": {
      "text/html": [
       "<pre style=\"white-space:pre;overflow-x:auto;line-height:normal;font-family:Menlo,'DejaVu Sans Mono',consolas,'Courier New',monospace\"></pre>\n"
      ],
      "text/plain": []
     },
     "metadata": {},
     "output_type": "display_data"
    },
    {
     "name": "stderr",
     "output_type": "stream",
     "text": [
      "Sampling 1 chain for 1_000 tune and 2_000 draw iterations (1_000 + 2_000 draws total) took 1 seconds.\n",
      "Only one chain was sampled, this makes it impossible to run some convergence checks\n",
      "Sampling: []\n"
     ]
    },
    {
     "data": {
      "application/vnd.jupyter.widget-view+json": {
       "model_id": "ff537a180ffe483cbc886ec6fa5dfb61",
       "version_major": 2,
       "version_minor": 0
      },
      "text/plain": [
       "Output()"
      ]
     },
     "metadata": {},
     "output_type": "display_data"
    },
    {
     "data": {
      "text/html": [
       "<pre style=\"white-space:pre;overflow-x:auto;line-height:normal;font-family:Menlo,'DejaVu Sans Mono',consolas,'Courier New',monospace\"></pre>\n"
      ],
      "text/plain": []
     },
     "metadata": {},
     "output_type": "display_data"
    },
    {
     "name": "stderr",
     "output_type": "stream",
     "text": [
      "Initializing NUTS using jitter+adapt_diag...\n",
      "Sequential sampling (1 chains in 1 job)\n",
      "NUTS: [w]\n"
     ]
    },
    {
     "data": {
      "application/vnd.jupyter.widget-view+json": {
       "model_id": "85dd3c5d28e344fd9708e8f49e93ea8e",
       "version_major": 2,
       "version_minor": 0
      },
      "text/plain": [
       "Output()"
      ]
     },
     "metadata": {},
     "output_type": "display_data"
    },
    {
     "data": {
      "text/html": [
       "<pre style=\"white-space:pre;overflow-x:auto;line-height:normal;font-family:Menlo,'DejaVu Sans Mono',consolas,'Courier New',monospace\"></pre>\n"
      ],
      "text/plain": []
     },
     "metadata": {},
     "output_type": "display_data"
    },
    {
     "name": "stderr",
     "output_type": "stream",
     "text": [
      "Sampling 1 chain for 1_000 tune and 2_000 draw iterations (1_000 + 2_000 draws total) took 1 seconds.\n",
      "Only one chain was sampled, this makes it impossible to run some convergence checks\n",
      "Sampling: []\n"
     ]
    },
    {
     "data": {
      "application/vnd.jupyter.widget-view+json": {
       "model_id": "8889ce3f5089425a879120d37bb6cd89",
       "version_major": 2,
       "version_minor": 0
      },
      "text/plain": [
       "Output()"
      ]
     },
     "metadata": {},
     "output_type": "display_data"
    },
    {
     "data": {
      "text/html": [
       "<pre style=\"white-space:pre;overflow-x:auto;line-height:normal;font-family:Menlo,'DejaVu Sans Mono',consolas,'Courier New',monospace\"></pre>\n"
      ],
      "text/plain": []
     },
     "metadata": {},
     "output_type": "display_data"
    },
    {
     "name": "stderr",
     "output_type": "stream",
     "text": [
      "Initializing NUTS using jitter+adapt_diag...\n",
      "Sequential sampling (1 chains in 1 job)\n",
      "NUTS: [w]\n"
     ]
    },
    {
     "data": {
      "application/vnd.jupyter.widget-view+json": {
       "model_id": "dda6d10c57194877936a33e9fc5909c3",
       "version_major": 2,
       "version_minor": 0
      },
      "text/plain": [
       "Output()"
      ]
     },
     "metadata": {},
     "output_type": "display_data"
    },
    {
     "data": {
      "text/html": [
       "<pre style=\"white-space:pre;overflow-x:auto;line-height:normal;font-family:Menlo,'DejaVu Sans Mono',consolas,'Courier New',monospace\"></pre>\n"
      ],
      "text/plain": []
     },
     "metadata": {},
     "output_type": "display_data"
    },
    {
     "name": "stderr",
     "output_type": "stream",
     "text": [
      "Sampling 1 chain for 1_000 tune and 2_000 draw iterations (1_000 + 2_000 draws total) took 1 seconds.\n",
      "Only one chain was sampled, this makes it impossible to run some convergence checks\n",
      "Sampling: []\n"
     ]
    },
    {
     "data": {
      "application/vnd.jupyter.widget-view+json": {
       "model_id": "e00b50fe7aea4cdf81e0c354baf01a78",
       "version_major": 2,
       "version_minor": 0
      },
      "text/plain": [
       "Output()"
      ]
     },
     "metadata": {},
     "output_type": "display_data"
    },
    {
     "data": {
      "text/html": [
       "<pre style=\"white-space:pre;overflow-x:auto;line-height:normal;font-family:Menlo,'DejaVu Sans Mono',consolas,'Courier New',monospace\"></pre>\n"
      ],
      "text/plain": []
     },
     "metadata": {},
     "output_type": "display_data"
    },
    {
     "name": "stderr",
     "output_type": "stream",
     "text": [
      "Initializing NUTS using jitter+adapt_diag...\n",
      "Sequential sampling (1 chains in 1 job)\n",
      "NUTS: [w]\n"
     ]
    },
    {
     "data": {
      "application/vnd.jupyter.widget-view+json": {
       "model_id": "d0e49b8c398c4b239f9e7a4ceadb3866",
       "version_major": 2,
       "version_minor": 0
      },
      "text/plain": [
       "Output()"
      ]
     },
     "metadata": {},
     "output_type": "display_data"
    },
    {
     "data": {
      "text/html": [
       "<pre style=\"white-space:pre;overflow-x:auto;line-height:normal;font-family:Menlo,'DejaVu Sans Mono',consolas,'Courier New',monospace\"></pre>\n"
      ],
      "text/plain": []
     },
     "metadata": {},
     "output_type": "display_data"
    },
    {
     "name": "stderr",
     "output_type": "stream",
     "text": [
      "Sampling 1 chain for 1_000 tune and 2_000 draw iterations (1_000 + 2_000 draws total) took 1 seconds.\n",
      "Only one chain was sampled, this makes it impossible to run some convergence checks\n",
      "Sampling: []\n"
     ]
    },
    {
     "data": {
      "application/vnd.jupyter.widget-view+json": {
       "model_id": "1d4a48dba20947ccabe93878213b2d86",
       "version_major": 2,
       "version_minor": 0
      },
      "text/plain": [
       "Output()"
      ]
     },
     "metadata": {},
     "output_type": "display_data"
    },
    {
     "data": {
      "text/html": [
       "<pre style=\"white-space:pre;overflow-x:auto;line-height:normal;font-family:Menlo,'DejaVu Sans Mono',consolas,'Courier New',monospace\"></pre>\n"
      ],
      "text/plain": []
     },
     "metadata": {},
     "output_type": "display_data"
    },
    {
     "name": "stderr",
     "output_type": "stream",
     "text": [
      "Initializing NUTS using jitter+adapt_diag...\n",
      "Sequential sampling (1 chains in 1 job)\n",
      "NUTS: [w]\n"
     ]
    },
    {
     "data": {
      "application/vnd.jupyter.widget-view+json": {
       "model_id": "2e2e21a05a22487cb490ba3510e020fd",
       "version_major": 2,
       "version_minor": 0
      },
      "text/plain": [
       "Output()"
      ]
     },
     "metadata": {},
     "output_type": "display_data"
    },
    {
     "data": {
      "text/html": [
       "<pre style=\"white-space:pre;overflow-x:auto;line-height:normal;font-family:Menlo,'DejaVu Sans Mono',consolas,'Courier New',monospace\"></pre>\n"
      ],
      "text/plain": []
     },
     "metadata": {},
     "output_type": "display_data"
    },
    {
     "name": "stderr",
     "output_type": "stream",
     "text": [
      "Sampling 1 chain for 1_000 tune and 2_000 draw iterations (1_000 + 2_000 draws total) took 1 seconds.\n",
      "Only one chain was sampled, this makes it impossible to run some convergence checks\n",
      "Sampling: []\n"
     ]
    },
    {
     "data": {
      "application/vnd.jupyter.widget-view+json": {
       "model_id": "b6af03c8a83542efac562b7679f8624c",
       "version_major": 2,
       "version_minor": 0
      },
      "text/plain": [
       "Output()"
      ]
     },
     "metadata": {},
     "output_type": "display_data"
    },
    {
     "data": {
      "text/html": [
       "<pre style=\"white-space:pre;overflow-x:auto;line-height:normal;font-family:Menlo,'DejaVu Sans Mono',consolas,'Courier New',monospace\"></pre>\n"
      ],
      "text/plain": []
     },
     "metadata": {},
     "output_type": "display_data"
    },
    {
     "name": "stderr",
     "output_type": "stream",
     "text": [
      "Initializing NUTS using jitter+adapt_diag...\n",
      "Sequential sampling (1 chains in 1 job)\n",
      "NUTS: [w]\n"
     ]
    },
    {
     "data": {
      "application/vnd.jupyter.widget-view+json": {
       "model_id": "3281820ba3a84abd8fe6a68c30fecb3f",
       "version_major": 2,
       "version_minor": 0
      },
      "text/plain": [
       "Output()"
      ]
     },
     "metadata": {},
     "output_type": "display_data"
    },
    {
     "data": {
      "text/html": [
       "<pre style=\"white-space:pre;overflow-x:auto;line-height:normal;font-family:Menlo,'DejaVu Sans Mono',consolas,'Courier New',monospace\"></pre>\n"
      ],
      "text/plain": []
     },
     "metadata": {},
     "output_type": "display_data"
    },
    {
     "name": "stderr",
     "output_type": "stream",
     "text": [
      "Sampling 1 chain for 1_000 tune and 2_000 draw iterations (1_000 + 2_000 draws total) took 1 seconds.\n",
      "Only one chain was sampled, this makes it impossible to run some convergence checks\n",
      "Sampling: []\n"
     ]
    },
    {
     "data": {
      "application/vnd.jupyter.widget-view+json": {
       "model_id": "a694d0a9473b4852a4fea7e7808b7c52",
       "version_major": 2,
       "version_minor": 0
      },
      "text/plain": [
       "Output()"
      ]
     },
     "metadata": {},
     "output_type": "display_data"
    },
    {
     "data": {
      "text/html": [
       "<pre style=\"white-space:pre;overflow-x:auto;line-height:normal;font-family:Menlo,'DejaVu Sans Mono',consolas,'Courier New',monospace\"></pre>\n"
      ],
      "text/plain": []
     },
     "metadata": {},
     "output_type": "display_data"
    },
    {
     "name": "stderr",
     "output_type": "stream",
     "text": [
      "Initializing NUTS using jitter+adapt_diag...\n",
      "Sequential sampling (1 chains in 1 job)\n",
      "NUTS: [w]\n"
     ]
    },
    {
     "data": {
      "application/vnd.jupyter.widget-view+json": {
       "model_id": "40b5627f5ed649d6b6ab3cb9483a34f6",
       "version_major": 2,
       "version_minor": 0
      },
      "text/plain": [
       "Output()"
      ]
     },
     "metadata": {},
     "output_type": "display_data"
    },
    {
     "data": {
      "text/html": [
       "<pre style=\"white-space:pre;overflow-x:auto;line-height:normal;font-family:Menlo,'DejaVu Sans Mono',consolas,'Courier New',monospace\"></pre>\n"
      ],
      "text/plain": []
     },
     "metadata": {},
     "output_type": "display_data"
    },
    {
     "name": "stderr",
     "output_type": "stream",
     "text": [
      "Sampling 1 chain for 1_000 tune and 2_000 draw iterations (1_000 + 2_000 draws total) took 1 seconds.\n",
      "Only one chain was sampled, this makes it impossible to run some convergence checks\n",
      "Sampling: []\n"
     ]
    },
    {
     "data": {
      "application/vnd.jupyter.widget-view+json": {
       "model_id": "0a6c92c48e6a4b61956a25ce2e94c4d2",
       "version_major": 2,
       "version_minor": 0
      },
      "text/plain": [
       "Output()"
      ]
     },
     "metadata": {},
     "output_type": "display_data"
    },
    {
     "data": {
      "text/html": [
       "<pre style=\"white-space:pre;overflow-x:auto;line-height:normal;font-family:Menlo,'DejaVu Sans Mono',consolas,'Courier New',monospace\"></pre>\n"
      ],
      "text/plain": []
     },
     "metadata": {},
     "output_type": "display_data"
    },
    {
     "name": "stderr",
     "output_type": "stream",
     "text": [
      "Initializing NUTS using jitter+adapt_diag...\n",
      "Sequential sampling (1 chains in 1 job)\n",
      "NUTS: [w]\n"
     ]
    },
    {
     "data": {
      "application/vnd.jupyter.widget-view+json": {
       "model_id": "77591b72d2d2464faa6784f2cfb2c53e",
       "version_major": 2,
       "version_minor": 0
      },
      "text/plain": [
       "Output()"
      ]
     },
     "metadata": {},
     "output_type": "display_data"
    },
    {
     "data": {
      "text/html": [
       "<pre style=\"white-space:pre;overflow-x:auto;line-height:normal;font-family:Menlo,'DejaVu Sans Mono',consolas,'Courier New',monospace\"></pre>\n"
      ],
      "text/plain": []
     },
     "metadata": {},
     "output_type": "display_data"
    },
    {
     "name": "stderr",
     "output_type": "stream",
     "text": [
      "Sampling 1 chain for 1_000 tune and 2_000 draw iterations (1_000 + 2_000 draws total) took 1 seconds.\n",
      "Only one chain was sampled, this makes it impossible to run some convergence checks\n",
      "Sampling: []\n"
     ]
    },
    {
     "data": {
      "application/vnd.jupyter.widget-view+json": {
       "model_id": "a82a8c0ccf054ccd87842d3c451e3785",
       "version_major": 2,
       "version_minor": 0
      },
      "text/plain": [
       "Output()"
      ]
     },
     "metadata": {},
     "output_type": "display_data"
    },
    {
     "data": {
      "text/html": [
       "<pre style=\"white-space:pre;overflow-x:auto;line-height:normal;font-family:Menlo,'DejaVu Sans Mono',consolas,'Courier New',monospace\"></pre>\n"
      ],
      "text/plain": []
     },
     "metadata": {},
     "output_type": "display_data"
    },
    {
     "name": "stderr",
     "output_type": "stream",
     "text": [
      "Initializing NUTS using jitter+adapt_diag...\n",
      "Sequential sampling (1 chains in 1 job)\n",
      "NUTS: [w]\n"
     ]
    },
    {
     "data": {
      "application/vnd.jupyter.widget-view+json": {
       "model_id": "698c76e27e4d4403b840b5ec03951d6c",
       "version_major": 2,
       "version_minor": 0
      },
      "text/plain": [
       "Output()"
      ]
     },
     "metadata": {},
     "output_type": "display_data"
    },
    {
     "data": {
      "text/html": [
       "<pre style=\"white-space:pre;overflow-x:auto;line-height:normal;font-family:Menlo,'DejaVu Sans Mono',consolas,'Courier New',monospace\"></pre>\n"
      ],
      "text/plain": []
     },
     "metadata": {},
     "output_type": "display_data"
    },
    {
     "name": "stderr",
     "output_type": "stream",
     "text": [
      "Sampling 1 chain for 1_000 tune and 2_000 draw iterations (1_000 + 2_000 draws total) took 1 seconds.\n",
      "Only one chain was sampled, this makes it impossible to run some convergence checks\n",
      "Sampling: []\n"
     ]
    },
    {
     "data": {
      "application/vnd.jupyter.widget-view+json": {
       "model_id": "e9e219da5e6d4f798230a9b5ce88a24c",
       "version_major": 2,
       "version_minor": 0
      },
      "text/plain": [
       "Output()"
      ]
     },
     "metadata": {},
     "output_type": "display_data"
    },
    {
     "data": {
      "text/html": [
       "<pre style=\"white-space:pre;overflow-x:auto;line-height:normal;font-family:Menlo,'DejaVu Sans Mono',consolas,'Courier New',monospace\"></pre>\n"
      ],
      "text/plain": []
     },
     "metadata": {},
     "output_type": "display_data"
    },
    {
     "name": "stderr",
     "output_type": "stream",
     "text": [
      "Initializing NUTS using jitter+adapt_diag...\n",
      "Sequential sampling (1 chains in 1 job)\n",
      "NUTS: [w]\n"
     ]
    },
    {
     "data": {
      "application/vnd.jupyter.widget-view+json": {
       "model_id": "adaf2ea42d59471281d27ad390c4c546",
       "version_major": 2,
       "version_minor": 0
      },
      "text/plain": [
       "Output()"
      ]
     },
     "metadata": {},
     "output_type": "display_data"
    },
    {
     "data": {
      "text/html": [
       "<pre style=\"white-space:pre;overflow-x:auto;line-height:normal;font-family:Menlo,'DejaVu Sans Mono',consolas,'Courier New',monospace\"></pre>\n"
      ],
      "text/plain": []
     },
     "metadata": {},
     "output_type": "display_data"
    },
    {
     "name": "stderr",
     "output_type": "stream",
     "text": [
      "Sampling 1 chain for 1_000 tune and 2_000 draw iterations (1_000 + 2_000 draws total) took 1 seconds.\n",
      "Only one chain was sampled, this makes it impossible to run some convergence checks\n",
      "Sampling: []\n"
     ]
    },
    {
     "data": {
      "application/vnd.jupyter.widget-view+json": {
       "model_id": "d6818dfd0e37477287f7ac3d6a58f726",
       "version_major": 2,
       "version_minor": 0
      },
      "text/plain": [
       "Output()"
      ]
     },
     "metadata": {},
     "output_type": "display_data"
    },
    {
     "data": {
      "text/html": [
       "<pre style=\"white-space:pre;overflow-x:auto;line-height:normal;font-family:Menlo,'DejaVu Sans Mono',consolas,'Courier New',monospace\"></pre>\n"
      ],
      "text/plain": []
     },
     "metadata": {},
     "output_type": "display_data"
    },
    {
     "name": "stderr",
     "output_type": "stream",
     "text": [
      "Initializing NUTS using jitter+adapt_diag...\n",
      "Sequential sampling (1 chains in 1 job)\n",
      "NUTS: [w]\n"
     ]
    },
    {
     "data": {
      "application/vnd.jupyter.widget-view+json": {
       "model_id": "389c1cb8e8554119bee5f4fe6dad1234",
       "version_major": 2,
       "version_minor": 0
      },
      "text/plain": [
       "Output()"
      ]
     },
     "metadata": {},
     "output_type": "display_data"
    },
    {
     "data": {
      "text/html": [
       "<pre style=\"white-space:pre;overflow-x:auto;line-height:normal;font-family:Menlo,'DejaVu Sans Mono',consolas,'Courier New',monospace\"></pre>\n"
      ],
      "text/plain": []
     },
     "metadata": {},
     "output_type": "display_data"
    },
    {
     "name": "stderr",
     "output_type": "stream",
     "text": [
      "Sampling 1 chain for 1_000 tune and 2_000 draw iterations (1_000 + 2_000 draws total) took 1 seconds.\n",
      "Only one chain was sampled, this makes it impossible to run some convergence checks\n",
      "Sampling: []\n"
     ]
    },
    {
     "data": {
      "application/vnd.jupyter.widget-view+json": {
       "model_id": "cd46d558377d4e94ab96c63ac8a2f4b2",
       "version_major": 2,
       "version_minor": 0
      },
      "text/plain": [
       "Output()"
      ]
     },
     "metadata": {},
     "output_type": "display_data"
    },
    {
     "data": {
      "text/html": [
       "<pre style=\"white-space:pre;overflow-x:auto;line-height:normal;font-family:Menlo,'DejaVu Sans Mono',consolas,'Courier New',monospace\"></pre>\n"
      ],
      "text/plain": []
     },
     "metadata": {},
     "output_type": "display_data"
    },
    {
     "name": "stderr",
     "output_type": "stream",
     "text": [
      "Initializing NUTS using jitter+adapt_diag...\n",
      "Sequential sampling (1 chains in 1 job)\n",
      "NUTS: [w]\n"
     ]
    },
    {
     "data": {
      "application/vnd.jupyter.widget-view+json": {
       "model_id": "7157656fb36f42c9b1d5b9f220cb5080",
       "version_major": 2,
       "version_minor": 0
      },
      "text/plain": [
       "Output()"
      ]
     },
     "metadata": {},
     "output_type": "display_data"
    },
    {
     "data": {
      "text/html": [
       "<pre style=\"white-space:pre;overflow-x:auto;line-height:normal;font-family:Menlo,'DejaVu Sans Mono',consolas,'Courier New',monospace\"></pre>\n"
      ],
      "text/plain": []
     },
     "metadata": {},
     "output_type": "display_data"
    },
    {
     "name": "stderr",
     "output_type": "stream",
     "text": [
      "Sampling 1 chain for 1_000 tune and 2_000 draw iterations (1_000 + 2_000 draws total) took 1 seconds.\n",
      "Only one chain was sampled, this makes it impossible to run some convergence checks\n",
      "Sampling: []\n"
     ]
    },
    {
     "data": {
      "application/vnd.jupyter.widget-view+json": {
       "model_id": "8d41cae93529426c80fca5f6eafccf92",
       "version_major": 2,
       "version_minor": 0
      },
      "text/plain": [
       "Output()"
      ]
     },
     "metadata": {},
     "output_type": "display_data"
    },
    {
     "data": {
      "text/html": [
       "<pre style=\"white-space:pre;overflow-x:auto;line-height:normal;font-family:Menlo,'DejaVu Sans Mono',consolas,'Courier New',monospace\"></pre>\n"
      ],
      "text/plain": []
     },
     "metadata": {},
     "output_type": "display_data"
    },
    {
     "name": "stderr",
     "output_type": "stream",
     "text": [
      "Initializing NUTS using jitter+adapt_diag...\n",
      "Sequential sampling (1 chains in 1 job)\n",
      "NUTS: [w]\n"
     ]
    },
    {
     "data": {
      "application/vnd.jupyter.widget-view+json": {
       "model_id": "337772eca5a841888f304ed72700a800",
       "version_major": 2,
       "version_minor": 0
      },
      "text/plain": [
       "Output()"
      ]
     },
     "metadata": {},
     "output_type": "display_data"
    },
    {
     "data": {
      "text/html": [
       "<pre style=\"white-space:pre;overflow-x:auto;line-height:normal;font-family:Menlo,'DejaVu Sans Mono',consolas,'Courier New',monospace\"></pre>\n"
      ],
      "text/plain": []
     },
     "metadata": {},
     "output_type": "display_data"
    },
    {
     "name": "stderr",
     "output_type": "stream",
     "text": [
      "Sampling 1 chain for 1_000 tune and 2_000 draw iterations (1_000 + 2_000 draws total) took 2 seconds.\n",
      "Only one chain was sampled, this makes it impossible to run some convergence checks\n",
      "Sampling: []\n"
     ]
    },
    {
     "data": {
      "application/vnd.jupyter.widget-view+json": {
       "model_id": "f779e5cd1fb1425aba17509845d464e6",
       "version_major": 2,
       "version_minor": 0
      },
      "text/plain": [
       "Output()"
      ]
     },
     "metadata": {},
     "output_type": "display_data"
    },
    {
     "data": {
      "text/html": [
       "<pre style=\"white-space:pre;overflow-x:auto;line-height:normal;font-family:Menlo,'DejaVu Sans Mono',consolas,'Courier New',monospace\"></pre>\n"
      ],
      "text/plain": []
     },
     "metadata": {},
     "output_type": "display_data"
    }
   ],
   "source": [
    "# シミュレーションの実行\n",
    "np.random.seed(0)\n",
    "selected_arms = []\n",
    "earned_rewards = []\n",
    "n_step = 20\n",
    "agent = MCMC_GLMTSAgent()\n",
    "for step in range(n_step):\n",
    "    arm_index = agent.get_arm()\n",
    "    for _ in range(50):\n",
    "        reward = Env.react(arms[arm_index])\n",
    "        agent.sample(arm_index, reward)\n",
    "        selected_arms.append(arm_index)\n",
    "        earned_rewards.append(reward)"
   ]
  },
  {
   "cell_type": "code",
   "execution_count": 106,
   "id": "bf33709d-7e43-40bb-b6c8-efd2c818466b",
   "metadata": {},
   "outputs": [
    {
     "data": {
      "image/png": "[encoded data removed]",
      "text/plain": [
       "<Figure size 640x480 with 2 Axes>"
      ]
     },
     "metadata": {},
     "output_type": "display_data"
    }
   ],
   "source": [
    "arm_count = [row[1] for row in sorted(Counter(selected_arms).items())]\n",
    "plt.subplot(1, 2, 1)\n",
    "plt.bar(range(4), [Env.p(arm) for arm in arms], tick_label = range(4))\n",
    "plt.xlabel(\"Arm\")\n",
    "plt.ylabel(r'$\\theta$')\n",
    "plt.title(\"Actual Probability\")\n",
    "plt.subplot(1, 2, 2)\n",
    "plt.bar(range(4), arm_count, tick_label = range(4))\n",
    "plt.xlabel(\"Arm\")\n",
    "plt.ylabel(\"Frequency\")\n",
    "plt.title(\"Simulation Results\")\n",
    "plt.tight_layout(pad = 3)\n",
    "plt.show()"
   ]
  },
  {
   "cell_type": "code",
   "execution_count": 109,
   "id": "f8e790f4-5eb2-4305-91cc-854a819cbefc",
   "metadata": {},
   "outputs": [],
   "source": [
    "# LinUCB\n",
    "class LinUCBAgent(object):\n",
    "    def __init__(self):\n",
    "        self.phis = np.array([[arm[0], arm[1], 1] for arm in arms]).T\n",
    "        self.alpha = 1\n",
    "        self.sigma = 1\n",
    "        self.A = np.identity(self.phis.shape[0])\n",
    "        self.b = np.zeros((self.phis.shape[0], 1))\n",
    "\n",
    "    def get_arm(self):\n",
    "        inv_A = np.linalg.inv(self.A)\n",
    "        mu = inv_A.dot(self.b)\n",
    "        S = inv_A\n",
    "        pred_mean = self.phis.T.dot(mu)\n",
    "        pred_var = self.phis.T.dot(S).dot(self.phis)\n",
    "        ucb = pred_mean.T + self.alpha * np.sqrt(np.diag(pred_var))\n",
    "        return np.argmax(ucb)\n",
    "\n",
    "    def sample(self, arm_index, reward):\n",
    "        phi = self.phis[:, [arm_index]]\n",
    "        self.b = self.b + phi * reward / (self.sigma ** 2)\n",
    "        self.A = self.A + phi.dot(phi.T) / (self.sigma ** 2)"
   ]
  },
  {
   "cell_type": "code",
   "execution_count": 118,
   "id": "7a9f312f-e1ef-4a1f-b1bf-6e09cd9ece1e",
   "metadata": {},
   "outputs": [
    {
     "data": {
      "image/png": "[encoded data removed]",
      "text/plain": [
       "<Figure size 640x480 with 1 Axes>"
      ]
     },
     "metadata": {},
     "output_type": "display_data"
    },
    {
     "name": "stdout",
     "output_type": "stream",
     "text": [
      "43.03\n"
     ]
    }
   ],
   "source": [
    "n_iter = 500\n",
    "n_step = 5000\n",
    "selected_arms = np.zeros((n_iter, n_step), dtype = int)\n",
    "earned_rewards = np.zeros((n_iter, n_step), dtype = int)\n",
    "start = time.perf_counter()\n",
    "\n",
    "for it in range(n_iter):\n",
    "    agent = LinUCBAgent()\n",
    "    for step in range(n_step):\n",
    "        arm_index = agent.get_arm()\n",
    "        reward = Env.react(arms[arm_index])\n",
    "        agent.sample(arm_index, reward)\n",
    "        selected_arms[it, step] = arm_index\n",
    "        earned_rewards[it, step] = reward\n",
    "\n",
    "end = time.perf_counter()\n",
    "plt.plot(np.mean(selected_arms == Env.opt(), axis = 0))\n",
    "plt.xlabel(r'$t$')\n",
    "plt.ylabel(r'$\\mathbb{E}[x(t) = x^*]$')\n",
    "plt.show()\n",
    "\n",
    "print('{:.2f}'.format((end-start)))"
   ]
  },
  {
   "cell_type": "code",
   "execution_count": 113,
   "id": "e39ebe98-b80f-4fc2-9bf9-376eb1336701",
   "metadata": {},
   "outputs": [],
   "source": [
    "# LinUCB2\n",
    "# 逆行列の計算をウッドベリーの公式で回避\n",
    "class LinUCBAgent2(object):\n",
    "    def __init__(self):\n",
    "        self.phis = np.array([[arm[0], arm[1], 1] for arm in arms]).T\n",
    "        self.alpha = 1\n",
    "        self.sigma = 1\n",
    "        self.inv_A = np.identity(self.phis.shape[0])\n",
    "        self.b = np.zeros((self.phis.shape[0], 1))\n",
    "\n",
    "    def get_arm(self):\n",
    "        post_mean = self.inv_A.dot(self.b)\n",
    "        post_var = self.inv_A\n",
    "        pred_mean = self.phis.T.dot(post_mean)\n",
    "        pred_var = self.phis.T.dot(post_var).dot(self.phis)\n",
    "        ucb = pred_mean.T + self.alpha * np.sqrt(np.diag(pred_var))\n",
    "        return np.argmax(ucb)\n",
    "\n",
    "    def sample(self, arm_index, reward):\n",
    "        phi = self.phis[:, [arm_index]]\n",
    "        iAppTiA = self.inv_A.dot(phi).dot(phi.T).dot(self.inv_A)\n",
    "        s2_pTiAp = self.sigma ** 2 + phi.T.dot(self.inv_A).dot(phi)\n",
    "        self.inv_A = self.inv_A - iAppTiA / s2_pTiAp\n",
    "        self.b = self.b + (self.sigma ** 2) * reward * phi"
   ]
  },
  {
   "cell_type": "code",
   "execution_count": 117,
   "id": "4dd52106-a809-4f43-8436-4caa19d532e9",
   "metadata": {},
   "outputs": [
    {
     "data": {
      "image/png": "[encoded data removed]",
      "text/plain": [
       "<Figure size 640x480 with 1 Axes>"
      ]
     },
     "metadata": {},
     "output_type": "display_data"
    },
    {
     "name": "stdout",
     "output_type": "stream",
     "text": [
      "39.52\n"
     ]
    }
   ],
   "source": [
    "n_iter = 500\n",
    "n_step = 5000\n",
    "selected_arms = np.zeros((n_iter, n_step), dtype = int)\n",
    "earned_rewards = np.zeros((n_iter, n_step), dtype = int)\n",
    "start = time.perf_counter()\n",
    "\n",
    "for it in range(n_iter):\n",
    "    agent = LinUCBAgent2()\n",
    "    for step in range(n_step):\n",
    "        arm_index = agent.get_arm()\n",
    "        reward = Env.react(arms[arm_index])\n",
    "        agent.sample(arm_index, reward)\n",
    "        selected_arms[it, step] = arm_index\n",
    "        earned_rewards[it, step] = reward\n",
    "\n",
    "end = time.perf_counter()\n",
    "plt.plot(np.mean(selected_arms == Env.opt(), axis = 0))\n",
    "plt.xlabel(r'$t$')\n",
    "plt.ylabel(r'$\\mathbb{E}[x(t) = x^*]$')\n",
    "plt.show()\n",
    "\n",
    "print('{:.2f}'.format((end-start)))"
   ]
  },
  {
   "cell_type": "code",
   "execution_count": 119,
   "id": "66e932c4-e672-480f-8a6b-78b156b5f8fe",
   "metadata": {},
   "outputs": [],
   "source": [
    "# 5章からコピー\n",
    "class UCBAgent(object):\n",
    "    def __init__(self):\n",
    "        self.counts = [0 for _ in range(n_arms)]\n",
    "        self.values = [0 for _ in range(n_arms)]\n",
    "\n",
    "    def calc_ucb(self, arm):\n",
    "        ucb = self.values[arm]\n",
    "        ucb += np.sqrt(np.log(sum(self.counts)) / (2 * self.counts[arm]))\n",
    "        return ucb\n",
    "\n",
    "    def get_arm(self):\n",
    "        if 0 in self.counts:\n",
    "            # 1回も選択したことのない解があれば、まずそれを選択\n",
    "            arm = self.counts.index(0)\n",
    "        else:\n",
    "            # UCB値を計算して最大となる解を選択\n",
    "            ucb = [self.calc_ucb(arm) for arm in range(n_arms)]\n",
    "            arm = ucb.index(max(ucb))\n",
    "        return arm\n",
    "\n",
    "    def sample(self, arm, reward):\n",
    "        self.counts[arm] += 1\n",
    "        self.values[arm] = ((self.counts[arm] - 1) * self.values[arm] + reward) / self.counts[arm]"
   ]
  },
  {
   "cell_type": "code",
   "execution_count": 120,
   "id": "ad24bacc-2be8-41f9-8666-9dedebb2f7db",
   "metadata": {},
   "outputs": [
    {
     "data": {
      "image/png": "[encoded data removed]",
      "text/plain": [
       "<Figure size 640x480 with 1 Axes>"
      ]
     },
     "metadata": {},
     "output_type": "display_data"
    }
   ],
   "source": [
    "agent_classes = [LinUCBAgent2, UCBAgent]\n",
    "n_arms = len(arms)\n",
    "n_iter = 500\n",
    "n_step = 5000\n",
    "selected_arms = np.zeros((n_iter, len(agent_classes), n_step), dtype = int)\n",
    "earned_rewards = np.zeros((n_iter, len(agent_classes), n_step), dtype = int)\n",
    "for it in range(n_iter):\n",
    "    for i, agent_class in enumerate(agent_classes):\n",
    "        agent = agent_class()\n",
    "        for step in range(n_step):\n",
    "            arm_index = agent.get_arm()\n",
    "            arm = arms[arm_index]\n",
    "            reward = Env.react(arm)\n",
    "            agent.sample(arm_index, reward)\n",
    "            selected_arms[it, i, step] = arm_index\n",
    "            earned_rewards[it, i, step] = reward\n",
    "\n",
    "acc = np.mean(selected_arms == Env.opt(), axis = 0)\n",
    "plt.plot(acc[0], label = \"LinUCB\")\n",
    "plt.plot(acc[1], label = \"UCB\")\n",
    "plt.xlabel(r'$t$')\n",
    "plt.ylabel(r'$\\mathbb{E}[x(t) = x^*]$')\n",
    "plt.legend()\n",
    "plt.show()"
   ]
  },
  {
   "cell_type": "code",
   "execution_count": 122,
   "id": "640b743d-bb57-4d12-9067-4ba8649cd775",
   "metadata": {},
   "outputs": [
    {
     "data": {
      "image/png": "[encoded data removed]",
      "text/plain": [
       "<Figure size 640x480 with 1 Axes>"
      ]
     },
     "metadata": {},
     "output_type": "display_data"
    }
   ],
   "source": [
    "plt.plot(np.mean(np.cumsum(earned_rewards, axis = 2), axis = 0)[0], label = \"LinUCB\")\n",
    "plt.plot(np.mean(np.cumsum(earned_rewards, axis = 2), axis = 0)[1], label = \"UCB\")\n",
    "plt.xlabel(r'$t$')\n",
    "plt.ylabel(r'Cumulative reward')\n",
    "plt.legend()\n",
    "plt.show()"
   ]
  }
 ],
 "metadata": {
  "kernelspec": {
   "display_name": "Python 3 (ipykernel)",
   "language": "python",
   "name": "python3"
  },
  "language_info": {
   "codemirror_mode": {
    "name": "ipython",
    "version": 3
   },
   "file_extension": ".py",
   "mimetype": "text/x-python",
   "name": "python",
   "nbconvert_exporter": "python",
   "pygments_lexer": "ipython3",
   "version": "3.11.6"
  }
 },
 "nbformat": 4,
 "nbformat_minor": 5
}
